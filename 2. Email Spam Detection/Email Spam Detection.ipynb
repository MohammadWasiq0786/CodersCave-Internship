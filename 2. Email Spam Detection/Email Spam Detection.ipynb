{
 "cells": [
  {
   "cell_type": "markdown",
   "id": "fc7ac66d",
   "metadata": {},
   "source": [
    "# Email Spam Detection \n",
    "\n",
    "## Name: Mohammad Wasiq\n",
    "\n",
    "## CodersCave Data Science Internship Project"
   ]
  },
  {
   "cell_type": "code",
   "execution_count": 1,
   "id": "56810dbd",
   "metadata": {
    "ExecuteTime": {
     "end_time": "2023-04-07T11:23:26.017571Z",
     "start_time": "2023-04-07T11:23:24.824830Z"
    }
   },
   "outputs": [],
   "source": [
    "# load the require lib\n",
    "import pandas as pd\n",
    "import numpy as np"
   ]
  },
  {
   "cell_type": "code",
   "execution_count": 2,
   "id": "7d0cdedc",
   "metadata": {
    "ExecuteTime": {
     "end_time": "2023-04-07T11:23:26.144423Z",
     "start_time": "2023-04-07T11:23:26.019564Z"
    }
   },
   "outputs": [],
   "source": [
    "df = pd.read_csv('spam_ham_dataset.csv')"
   ]
  },
  {
   "cell_type": "code",
   "execution_count": 3,
   "id": "d518938b",
   "metadata": {
    "ExecuteTime": {
     "end_time": "2023-04-07T11:23:26.192412Z",
     "start_time": "2023-04-07T11:23:26.147416Z"
    }
   },
   "outputs": [
    {
     "data": {
      "text/html": [
       "<div>\n",
       "<style scoped>\n",
       "    .dataframe tbody tr th:only-of-type {\n",
       "        vertical-align: middle;\n",
       "    }\n",
       "\n",
       "    .dataframe tbody tr th {\n",
       "        vertical-align: top;\n",
       "    }\n",
       "\n",
       "    .dataframe thead th {\n",
       "        text-align: right;\n",
       "    }\n",
       "</style>\n",
       "<table border=\"1\" class=\"dataframe\">\n",
       "  <thead>\n",
       "    <tr style=\"text-align: right;\">\n",
       "      <th></th>\n",
       "      <th>Unnamed: 0</th>\n",
       "      <th>label</th>\n",
       "      <th>text</th>\n",
       "      <th>label_num</th>\n",
       "    </tr>\n",
       "  </thead>\n",
       "  <tbody>\n",
       "    <tr>\n",
       "      <th>0</th>\n",
       "      <td>605</td>\n",
       "      <td>ham</td>\n",
       "      <td>Subject: enron methanol ; meter # : 988291\\r\\n...</td>\n",
       "      <td>0</td>\n",
       "    </tr>\n",
       "    <tr>\n",
       "      <th>1</th>\n",
       "      <td>2349</td>\n",
       "      <td>ham</td>\n",
       "      <td>Subject: hpl nom for january 9 , 2001\\r\\n( see...</td>\n",
       "      <td>0</td>\n",
       "    </tr>\n",
       "    <tr>\n",
       "      <th>2</th>\n",
       "      <td>3624</td>\n",
       "      <td>ham</td>\n",
       "      <td>Subject: neon retreat\\r\\nho ho ho , we ' re ar...</td>\n",
       "      <td>0</td>\n",
       "    </tr>\n",
       "    <tr>\n",
       "      <th>3</th>\n",
       "      <td>4685</td>\n",
       "      <td>spam</td>\n",
       "      <td>Subject: photoshop , windows , office . cheap ...</td>\n",
       "      <td>1</td>\n",
       "    </tr>\n",
       "    <tr>\n",
       "      <th>4</th>\n",
       "      <td>2030</td>\n",
       "      <td>ham</td>\n",
       "      <td>Subject: re : indian springs\\r\\nthis deal is t...</td>\n",
       "      <td>0</td>\n",
       "    </tr>\n",
       "    <tr>\n",
       "      <th>...</th>\n",
       "      <td>...</td>\n",
       "      <td>...</td>\n",
       "      <td>...</td>\n",
       "      <td>...</td>\n",
       "    </tr>\n",
       "    <tr>\n",
       "      <th>5166</th>\n",
       "      <td>1518</td>\n",
       "      <td>ham</td>\n",
       "      <td>Subject: put the 10 on the ft\\r\\nthe transport...</td>\n",
       "      <td>0</td>\n",
       "    </tr>\n",
       "    <tr>\n",
       "      <th>5167</th>\n",
       "      <td>404</td>\n",
       "      <td>ham</td>\n",
       "      <td>Subject: 3 / 4 / 2000 and following noms\\r\\nhp...</td>\n",
       "      <td>0</td>\n",
       "    </tr>\n",
       "    <tr>\n",
       "      <th>5168</th>\n",
       "      <td>2933</td>\n",
       "      <td>ham</td>\n",
       "      <td>Subject: calpine daily gas nomination\\r\\n&gt;\\r\\n...</td>\n",
       "      <td>0</td>\n",
       "    </tr>\n",
       "    <tr>\n",
       "      <th>5169</th>\n",
       "      <td>1409</td>\n",
       "      <td>ham</td>\n",
       "      <td>Subject: industrial worksheets for august 2000...</td>\n",
       "      <td>0</td>\n",
       "    </tr>\n",
       "    <tr>\n",
       "      <th>5170</th>\n",
       "      <td>4807</td>\n",
       "      <td>spam</td>\n",
       "      <td>Subject: important online banking alert\\r\\ndea...</td>\n",
       "      <td>1</td>\n",
       "    </tr>\n",
       "  </tbody>\n",
       "</table>\n",
       "<p>5171 rows × 4 columns</p>\n",
       "</div>"
      ],
      "text/plain": [
       "      Unnamed: 0 label                                               text  \\\n",
       "0            605   ham  Subject: enron methanol ; meter # : 988291\\r\\n...   \n",
       "1           2349   ham  Subject: hpl nom for january 9 , 2001\\r\\n( see...   \n",
       "2           3624   ham  Subject: neon retreat\\r\\nho ho ho , we ' re ar...   \n",
       "3           4685  spam  Subject: photoshop , windows , office . cheap ...   \n",
       "4           2030   ham  Subject: re : indian springs\\r\\nthis deal is t...   \n",
       "...          ...   ...                                                ...   \n",
       "5166        1518   ham  Subject: put the 10 on the ft\\r\\nthe transport...   \n",
       "5167         404   ham  Subject: 3 / 4 / 2000 and following noms\\r\\nhp...   \n",
       "5168        2933   ham  Subject: calpine daily gas nomination\\r\\n>\\r\\n...   \n",
       "5169        1409   ham  Subject: industrial worksheets for august 2000...   \n",
       "5170        4807  spam  Subject: important online banking alert\\r\\ndea...   \n",
       "\n",
       "      label_num  \n",
       "0             0  \n",
       "1             0  \n",
       "2             0  \n",
       "3             1  \n",
       "4             0  \n",
       "...         ...  \n",
       "5166          0  \n",
       "5167          0  \n",
       "5168          0  \n",
       "5169          0  \n",
       "5170          1  \n",
       "\n",
       "[5171 rows x 4 columns]"
      ]
     },
     "execution_count": 3,
     "metadata": {},
     "output_type": "execute_result"
    }
   ],
   "source": [
    "df"
   ]
  },
  {
   "cell_type": "code",
   "execution_count": 4,
   "id": "74887da8",
   "metadata": {
    "ExecuteTime": {
     "end_time": "2023-04-07T11:23:26.224293Z",
     "start_time": "2023-04-07T11:23:26.195379Z"
    }
   },
   "outputs": [
    {
     "data": {
      "text/html": [
       "<div>\n",
       "<style scoped>\n",
       "    .dataframe tbody tr th:only-of-type {\n",
       "        vertical-align: middle;\n",
       "    }\n",
       "\n",
       "    .dataframe tbody tr th {\n",
       "        vertical-align: top;\n",
       "    }\n",
       "\n",
       "    .dataframe thead th {\n",
       "        text-align: right;\n",
       "    }\n",
       "</style>\n",
       "<table border=\"1\" class=\"dataframe\">\n",
       "  <thead>\n",
       "    <tr style=\"text-align: right;\">\n",
       "      <th></th>\n",
       "      <th>Unnamed: 0</th>\n",
       "      <th>label</th>\n",
       "      <th>text</th>\n",
       "      <th>label_num</th>\n",
       "    </tr>\n",
       "  </thead>\n",
       "  <tbody>\n",
       "    <tr>\n",
       "      <th>0</th>\n",
       "      <td>605</td>\n",
       "      <td>ham</td>\n",
       "      <td>Subject: enron methanol ; meter # : 988291\\r\\n...</td>\n",
       "      <td>0</td>\n",
       "    </tr>\n",
       "    <tr>\n",
       "      <th>1</th>\n",
       "      <td>2349</td>\n",
       "      <td>ham</td>\n",
       "      <td>Subject: hpl nom for january 9 , 2001\\r\\n( see...</td>\n",
       "      <td>0</td>\n",
       "    </tr>\n",
       "    <tr>\n",
       "      <th>2</th>\n",
       "      <td>3624</td>\n",
       "      <td>ham</td>\n",
       "      <td>Subject: neon retreat\\r\\nho ho ho , we ' re ar...</td>\n",
       "      <td>0</td>\n",
       "    </tr>\n",
       "    <tr>\n",
       "      <th>3</th>\n",
       "      <td>4685</td>\n",
       "      <td>spam</td>\n",
       "      <td>Subject: photoshop , windows , office . cheap ...</td>\n",
       "      <td>1</td>\n",
       "    </tr>\n",
       "    <tr>\n",
       "      <th>4</th>\n",
       "      <td>2030</td>\n",
       "      <td>ham</td>\n",
       "      <td>Subject: re : indian springs\\r\\nthis deal is t...</td>\n",
       "      <td>0</td>\n",
       "    </tr>\n",
       "  </tbody>\n",
       "</table>\n",
       "</div>"
      ],
      "text/plain": [
       "   Unnamed: 0 label                                               text  \\\n",
       "0         605   ham  Subject: enron methanol ; meter # : 988291\\r\\n...   \n",
       "1        2349   ham  Subject: hpl nom for january 9 , 2001\\r\\n( see...   \n",
       "2        3624   ham  Subject: neon retreat\\r\\nho ho ho , we ' re ar...   \n",
       "3        4685  spam  Subject: photoshop , windows , office . cheap ...   \n",
       "4        2030   ham  Subject: re : indian springs\\r\\nthis deal is t...   \n",
       "\n",
       "   label_num  \n",
       "0          0  \n",
       "1          0  \n",
       "2          0  \n",
       "3          1  \n",
       "4          0  "
      ]
     },
     "execution_count": 4,
     "metadata": {},
     "output_type": "execute_result"
    }
   ],
   "source": [
    "df.head()"
   ]
  },
  {
   "cell_type": "code",
   "execution_count": 5,
   "id": "bc7d16cb",
   "metadata": {
    "ExecuteTime": {
     "end_time": "2023-04-07T11:23:26.240252Z",
     "start_time": "2023-04-07T11:23:26.227293Z"
    }
   },
   "outputs": [
    {
     "data": {
      "text/plain": [
       "Index(['Unnamed: 0', 'label', 'text', 'label_num'], dtype='object')"
      ]
     },
     "execution_count": 5,
     "metadata": {},
     "output_type": "execute_result"
    }
   ],
   "source": [
    "df.columns"
   ]
  },
  {
   "cell_type": "markdown",
   "id": "777dc6a5",
   "metadata": {},
   "source": [
    "## Feature Selection"
   ]
  },
  {
   "cell_type": "markdown",
   "id": "69cee3ef",
   "metadata": {},
   "source": [
    "**Dropping irrelevant features from the dataset such as `\"Unnamed:0\"`**"
   ]
  },
  {
   "cell_type": "code",
   "execution_count": 6,
   "id": "3320c06e",
   "metadata": {
    "ExecuteTime": {
     "end_time": "2023-04-07T11:23:26.256339Z",
     "start_time": "2023-04-07T11:23:26.245239Z"
    }
   },
   "outputs": [],
   "source": [
    "df.drop('Unnamed: 0', axis=1, inplace=True)"
   ]
  },
  {
   "cell_type": "code",
   "execution_count": 7,
   "id": "75a1b670",
   "metadata": {
    "ExecuteTime": {
     "end_time": "2023-04-07T11:23:26.288264Z",
     "start_time": "2023-04-07T11:23:26.259332Z"
    }
   },
   "outputs": [
    {
     "data": {
      "text/html": [
       "<div>\n",
       "<style scoped>\n",
       "    .dataframe tbody tr th:only-of-type {\n",
       "        vertical-align: middle;\n",
       "    }\n",
       "\n",
       "    .dataframe tbody tr th {\n",
       "        vertical-align: top;\n",
       "    }\n",
       "\n",
       "    .dataframe thead th {\n",
       "        text-align: right;\n",
       "    }\n",
       "</style>\n",
       "<table border=\"1\" class=\"dataframe\">\n",
       "  <thead>\n",
       "    <tr style=\"text-align: right;\">\n",
       "      <th></th>\n",
       "      <th>label</th>\n",
       "      <th>text</th>\n",
       "      <th>label_num</th>\n",
       "    </tr>\n",
       "  </thead>\n",
       "  <tbody>\n",
       "    <tr>\n",
       "      <th>0</th>\n",
       "      <td>ham</td>\n",
       "      <td>Subject: enron methanol ; meter # : 988291\\r\\n...</td>\n",
       "      <td>0</td>\n",
       "    </tr>\n",
       "    <tr>\n",
       "      <th>1</th>\n",
       "      <td>ham</td>\n",
       "      <td>Subject: hpl nom for january 9 , 2001\\r\\n( see...</td>\n",
       "      <td>0</td>\n",
       "    </tr>\n",
       "    <tr>\n",
       "      <th>2</th>\n",
       "      <td>ham</td>\n",
       "      <td>Subject: neon retreat\\r\\nho ho ho , we ' re ar...</td>\n",
       "      <td>0</td>\n",
       "    </tr>\n",
       "    <tr>\n",
       "      <th>3</th>\n",
       "      <td>spam</td>\n",
       "      <td>Subject: photoshop , windows , office . cheap ...</td>\n",
       "      <td>1</td>\n",
       "    </tr>\n",
       "    <tr>\n",
       "      <th>4</th>\n",
       "      <td>ham</td>\n",
       "      <td>Subject: re : indian springs\\r\\nthis deal is t...</td>\n",
       "      <td>0</td>\n",
       "    </tr>\n",
       "    <tr>\n",
       "      <th>...</th>\n",
       "      <td>...</td>\n",
       "      <td>...</td>\n",
       "      <td>...</td>\n",
       "    </tr>\n",
       "    <tr>\n",
       "      <th>5166</th>\n",
       "      <td>ham</td>\n",
       "      <td>Subject: put the 10 on the ft\\r\\nthe transport...</td>\n",
       "      <td>0</td>\n",
       "    </tr>\n",
       "    <tr>\n",
       "      <th>5167</th>\n",
       "      <td>ham</td>\n",
       "      <td>Subject: 3 / 4 / 2000 and following noms\\r\\nhp...</td>\n",
       "      <td>0</td>\n",
       "    </tr>\n",
       "    <tr>\n",
       "      <th>5168</th>\n",
       "      <td>ham</td>\n",
       "      <td>Subject: calpine daily gas nomination\\r\\n&gt;\\r\\n...</td>\n",
       "      <td>0</td>\n",
       "    </tr>\n",
       "    <tr>\n",
       "      <th>5169</th>\n",
       "      <td>ham</td>\n",
       "      <td>Subject: industrial worksheets for august 2000...</td>\n",
       "      <td>0</td>\n",
       "    </tr>\n",
       "    <tr>\n",
       "      <th>5170</th>\n",
       "      <td>spam</td>\n",
       "      <td>Subject: important online banking alert\\r\\ndea...</td>\n",
       "      <td>1</td>\n",
       "    </tr>\n",
       "  </tbody>\n",
       "</table>\n",
       "<p>5171 rows × 3 columns</p>\n",
       "</div>"
      ],
      "text/plain": [
       "     label                                               text  label_num\n",
       "0      ham  Subject: enron methanol ; meter # : 988291\\r\\n...          0\n",
       "1      ham  Subject: hpl nom for january 9 , 2001\\r\\n( see...          0\n",
       "2      ham  Subject: neon retreat\\r\\nho ho ho , we ' re ar...          0\n",
       "3     spam  Subject: photoshop , windows , office . cheap ...          1\n",
       "4      ham  Subject: re : indian springs\\r\\nthis deal is t...          0\n",
       "...    ...                                                ...        ...\n",
       "5166   ham  Subject: put the 10 on the ft\\r\\nthe transport...          0\n",
       "5167   ham  Subject: 3 / 4 / 2000 and following noms\\r\\nhp...          0\n",
       "5168   ham  Subject: calpine daily gas nomination\\r\\n>\\r\\n...          0\n",
       "5169   ham  Subject: industrial worksheets for august 2000...          0\n",
       "5170  spam  Subject: important online banking alert\\r\\ndea...          1\n",
       "\n",
       "[5171 rows x 3 columns]"
      ]
     },
     "execution_count": 7,
     "metadata": {},
     "output_type": "execute_result"
    }
   ],
   "source": [
    "df"
   ]
  },
  {
   "cell_type": "code",
   "execution_count": 8,
   "id": "61626ec3",
   "metadata": {
    "ExecuteTime": {
     "end_time": "2023-04-07T11:23:26.304256Z",
     "start_time": "2023-04-07T11:23:26.290257Z"
    }
   },
   "outputs": [
    {
     "data": {
      "text/plain": [
       "Index(['label', 'text', 'label_num'], dtype='object')"
      ]
     },
     "execution_count": 8,
     "metadata": {},
     "output_type": "execute_result"
    }
   ],
   "source": [
    "df.columns"
   ]
  },
  {
   "cell_type": "code",
   "execution_count": 9,
   "id": "eab02abc",
   "metadata": {
    "ExecuteTime": {
     "end_time": "2023-04-07T11:23:26.335146Z",
     "start_time": "2023-04-07T11:23:26.307213Z"
    }
   },
   "outputs": [
    {
     "data": {
      "text/plain": [
       "label        0\n",
       "text         0\n",
       "label_num    0\n",
       "dtype: int64"
      ]
     },
     "execution_count": 9,
     "metadata": {},
     "output_type": "execute_result"
    }
   ],
   "source": [
    "df.isnull().sum()"
   ]
  },
  {
   "cell_type": "code",
   "execution_count": 10,
   "id": "eb7409b5",
   "metadata": {
    "ExecuteTime": {
     "end_time": "2023-04-07T11:23:26.351105Z",
     "start_time": "2023-04-07T11:23:26.338129Z"
    }
   },
   "outputs": [
    {
     "data": {
      "text/plain": [
       "0       Subject: enron methanol ; meter # : 988291\\r\\n...\n",
       "1       Subject: hpl nom for january 9 , 2001\\r\\n( see...\n",
       "2       Subject: neon retreat\\r\\nho ho ho , we ' re ar...\n",
       "3       Subject: photoshop , windows , office . cheap ...\n",
       "4       Subject: re : indian springs\\r\\nthis deal is t...\n",
       "                              ...                        \n",
       "5166    Subject: put the 10 on the ft\\r\\nthe transport...\n",
       "5167    Subject: 3 / 4 / 2000 and following noms\\r\\nhp...\n",
       "5168    Subject: calpine daily gas nomination\\r\\n>\\r\\n...\n",
       "5169    Subject: industrial worksheets for august 2000...\n",
       "5170    Subject: important online banking alert\\r\\ndea...\n",
       "Name: text, Length: 5171, dtype: object"
      ]
     },
     "execution_count": 10,
     "metadata": {},
     "output_type": "execute_result"
    }
   ],
   "source": [
    "df['text']"
   ]
  },
  {
   "cell_type": "code",
   "execution_count": 11,
   "id": "db632e2d",
   "metadata": {
    "ExecuteTime": {
     "end_time": "2023-04-07T11:23:26.366550Z",
     "start_time": "2023-04-07T11:23:26.355085Z"
    }
   },
   "outputs": [
    {
     "data": {
      "text/plain": [
       "(5171, 3)"
      ]
     },
     "execution_count": 11,
     "metadata": {},
     "output_type": "execute_result"
    }
   ],
   "source": [
    "df.shape"
   ]
  },
  {
   "cell_type": "code",
   "execution_count": 12,
   "id": "f1d07af3",
   "metadata": {
    "ExecuteTime": {
     "end_time": "2023-04-07T11:23:26.399388Z",
     "start_time": "2023-04-07T11:23:26.372526Z"
    }
   },
   "outputs": [
    {
     "name": "stdout",
     "output_type": "stream",
     "text": [
      "<class 'pandas.core.frame.DataFrame'>\n",
      "RangeIndex: 5171 entries, 0 to 5170\n",
      "Data columns (total 3 columns):\n",
      " #   Column     Non-Null Count  Dtype \n",
      "---  ------     --------------  ----- \n",
      " 0   label      5171 non-null   object\n",
      " 1   text       5171 non-null   object\n",
      " 2   label_num  5171 non-null   int64 \n",
      "dtypes: int64(1), object(2)\n",
      "memory usage: 121.3+ KB\n"
     ]
    }
   ],
   "source": [
    "df.info()"
   ]
  },
  {
   "cell_type": "markdown",
   "id": "86513760",
   "metadata": {},
   "source": [
    "# Data cleaning and Preprocessing"
   ]
  },
  {
   "cell_type": "markdown",
   "id": "9f3ced8a",
   "metadata": {},
   "source": [
    "**Removing unnecessary text that does not add any meaning to the email.**"
   ]
  },
  {
   "cell_type": "code",
   "execution_count": 13,
   "id": "7f5bc7f9",
   "metadata": {
    "ExecuteTime": {
     "end_time": "2023-04-07T11:23:26.414334Z",
     "start_time": "2023-04-07T11:23:26.404362Z"
    }
   },
   "outputs": [],
   "source": [
    "import re"
   ]
  },
  {
   "cell_type": "code",
   "execution_count": 14,
   "id": "646c61fc",
   "metadata": {
    "ExecuteTime": {
     "end_time": "2023-04-07T11:23:28.211691Z",
     "start_time": "2023-04-07T11:23:26.420319Z"
    }
   },
   "outputs": [],
   "source": [
    "# define a function to clean text data using regular expressions\n",
    "\n",
    "def clean_text(text):\n",
    "    text = re.sub(r\"\\S+@\\S+\", \"\", text)\n",
    "    text = re.sub(r\"http\\S+\", \"\", text)\n",
    "    text = re.sub(r\"[^a-zA-Z0-9\\s]\", \"\", text)\n",
    "    text = re.sub(r\"\\s+\", \" \", text).strip()\n",
    "        # tokenize the text\n",
    "    tokens = re.split(r\"\\s\", text)\n",
    "        # convert tokens to lowercase\n",
    "    tokens = [token.lower() for token in tokens]\n",
    "        # remove stop words\n",
    "    stop_words = set(['the', 'and', 'to', 'of', 'a', 'in', 'that', 'is', 'it', 'with', 'for'])\n",
    "    filtered_tokens = [token for token in tokens if token not in stop_words]\n",
    "    \n",
    "    # join filtered tokens back into text\n",
    "    clean_text = ' '.join(filtered_tokens)\n",
    "    \n",
    "    \n",
    "    return clean_text\n",
    "\n",
    "# apply the function to the 'text' column in the DataFrame\n",
    "df['clean_text'] = df['text'].apply(clean_text)\n"
   ]
  },
  {
   "cell_type": "code",
   "execution_count": 15,
   "id": "ffbdc4ed",
   "metadata": {
    "ExecuteTime": {
     "end_time": "2023-04-07T11:23:28.243567Z",
     "start_time": "2023-04-07T11:23:28.215641Z"
    }
   },
   "outputs": [
    {
     "data": {
      "text/html": [
       "<div>\n",
       "<style scoped>\n",
       "    .dataframe tbody tr th:only-of-type {\n",
       "        vertical-align: middle;\n",
       "    }\n",
       "\n",
       "    .dataframe tbody tr th {\n",
       "        vertical-align: top;\n",
       "    }\n",
       "\n",
       "    .dataframe thead th {\n",
       "        text-align: right;\n",
       "    }\n",
       "</style>\n",
       "<table border=\"1\" class=\"dataframe\">\n",
       "  <thead>\n",
       "    <tr style=\"text-align: right;\">\n",
       "      <th></th>\n",
       "      <th>label</th>\n",
       "      <th>text</th>\n",
       "      <th>label_num</th>\n",
       "      <th>clean_text</th>\n",
       "    </tr>\n",
       "  </thead>\n",
       "  <tbody>\n",
       "    <tr>\n",
       "      <th>0</th>\n",
       "      <td>ham</td>\n",
       "      <td>Subject: enron methanol ; meter # : 988291\\r\\n...</td>\n",
       "      <td>0</td>\n",
       "      <td>subject enron methanol meter 988291 this follo...</td>\n",
       "    </tr>\n",
       "    <tr>\n",
       "      <th>1</th>\n",
       "      <td>ham</td>\n",
       "      <td>Subject: hpl nom for january 9 , 2001\\r\\n( see...</td>\n",
       "      <td>0</td>\n",
       "      <td>subject hpl nom january 9 2001 see attached fi...</td>\n",
       "    </tr>\n",
       "    <tr>\n",
       "      <th>2</th>\n",
       "      <td>ham</td>\n",
       "      <td>Subject: neon retreat\\r\\nho ho ho , we ' re ar...</td>\n",
       "      <td>0</td>\n",
       "      <td>subject neon retreat ho ho ho we re around mos...</td>\n",
       "    </tr>\n",
       "    <tr>\n",
       "      <th>3</th>\n",
       "      <td>spam</td>\n",
       "      <td>Subject: photoshop , windows , office . cheap ...</td>\n",
       "      <td>1</td>\n",
       "      <td>subject photoshop windows office cheap main tr...</td>\n",
       "    </tr>\n",
       "    <tr>\n",
       "      <th>4</th>\n",
       "      <td>ham</td>\n",
       "      <td>Subject: re : indian springs\\r\\nthis deal is t...</td>\n",
       "      <td>0</td>\n",
       "      <td>subject re indian springs this deal book teco ...</td>\n",
       "    </tr>\n",
       "  </tbody>\n",
       "</table>\n",
       "</div>"
      ],
      "text/plain": [
       "  label                                               text  label_num  \\\n",
       "0   ham  Subject: enron methanol ; meter # : 988291\\r\\n...          0   \n",
       "1   ham  Subject: hpl nom for january 9 , 2001\\r\\n( see...          0   \n",
       "2   ham  Subject: neon retreat\\r\\nho ho ho , we ' re ar...          0   \n",
       "3  spam  Subject: photoshop , windows , office . cheap ...          1   \n",
       "4   ham  Subject: re : indian springs\\r\\nthis deal is t...          0   \n",
       "\n",
       "                                          clean_text  \n",
       "0  subject enron methanol meter 988291 this follo...  \n",
       "1  subject hpl nom january 9 2001 see attached fi...  \n",
       "2  subject neon retreat ho ho ho we re around mos...  \n",
       "3  subject photoshop windows office cheap main tr...  \n",
       "4  subject re indian springs this deal book teco ...  "
      ]
     },
     "execution_count": 15,
     "metadata": {},
     "output_type": "execute_result"
    }
   ],
   "source": [
    "df.head()"
   ]
  },
  {
   "cell_type": "code",
   "execution_count": 16,
   "id": "a67bbf7c",
   "metadata": {
    "ExecuteTime": {
     "end_time": "2023-04-07T11:23:28.274483Z",
     "start_time": "2023-04-07T11:23:28.247557Z"
    }
   },
   "outputs": [
    {
     "data": {
      "text/plain": [
       "0       subject enron methanol meter 988291 this follo...\n",
       "1       subject hpl nom january 9 2001 see attached fi...\n",
       "2       subject neon retreat ho ho ho we re around mos...\n",
       "3       subject photoshop windows office cheap main tr...\n",
       "4       subject re indian springs this deal book teco ...\n",
       "                              ...                        \n",
       "5166    subject put 10 on ft transport volumes decreas...\n",
       "5167    subject 3 4 2000 following noms hpl can t take...\n",
       "5168    subject calpine daily gas nomination julie as ...\n",
       "5169    subject industrial worksheets august 2000 acti...\n",
       "5170    subject important online banking alert dear va...\n",
       "Name: clean_text, Length: 5171, dtype: object"
      ]
     },
     "execution_count": 16,
     "metadata": {},
     "output_type": "execute_result"
    }
   ],
   "source": [
    "df['clean_text']"
   ]
  },
  {
   "cell_type": "code",
   "execution_count": 17,
   "id": "ca31595b",
   "metadata": {
    "ExecuteTime": {
     "end_time": "2023-04-07T11:23:28.322344Z",
     "start_time": "2023-04-07T11:23:28.277477Z"
    }
   },
   "outputs": [],
   "source": [
    "df['clean_text'] = df['clean_text'].str.replace('subject ', '')"
   ]
  },
  {
   "cell_type": "code",
   "execution_count": 18,
   "id": "d80eb9b3",
   "metadata": {
    "ExecuteTime": {
     "end_time": "2023-04-07T11:23:28.338301Z",
     "start_time": "2023-04-07T11:23:28.325336Z"
    }
   },
   "outputs": [
    {
     "data": {
      "text/plain": [
       "0       enron methanol meter 988291 this follow up not...\n",
       "1       hpl nom january 9 2001 see attached file hplno...\n",
       "2       neon retreat ho ho ho we re around most wonder...\n",
       "3       photoshop windows office cheap main trending a...\n",
       "4       re indian springs this deal book teco pvr reve...\n",
       "                              ...                        \n",
       "5166    put 10 on ft transport volumes decreased from ...\n",
       "5167    3 4 2000 following noms hpl can t take extra 1...\n",
       "5168    calpine daily gas nomination julie as i mentio...\n",
       "5169    industrial worksheets august 2000 activity att...\n",
       "5170    important online banking alert dear valued cit...\n",
       "Name: clean_text, Length: 5171, dtype: object"
      ]
     },
     "execution_count": 18,
     "metadata": {},
     "output_type": "execute_result"
    }
   ],
   "source": [
    "df['clean_text']"
   ]
  },
  {
   "cell_type": "code",
   "execution_count": 19,
   "id": "6521678c",
   "metadata": {
    "ExecuteTime": {
     "end_time": "2023-04-07T11:23:28.369737Z",
     "start_time": "2023-04-07T11:23:28.341293Z"
    }
   },
   "outputs": [
    {
     "data": {
      "text/html": [
       "<div>\n",
       "<style scoped>\n",
       "    .dataframe tbody tr th:only-of-type {\n",
       "        vertical-align: middle;\n",
       "    }\n",
       "\n",
       "    .dataframe tbody tr th {\n",
       "        vertical-align: top;\n",
       "    }\n",
       "\n",
       "    .dataframe thead th {\n",
       "        text-align: right;\n",
       "    }\n",
       "</style>\n",
       "<table border=\"1\" class=\"dataframe\">\n",
       "  <thead>\n",
       "    <tr style=\"text-align: right;\">\n",
       "      <th></th>\n",
       "      <th>label</th>\n",
       "      <th>text</th>\n",
       "      <th>label_num</th>\n",
       "      <th>clean_text</th>\n",
       "    </tr>\n",
       "  </thead>\n",
       "  <tbody>\n",
       "    <tr>\n",
       "      <th>0</th>\n",
       "      <td>ham</td>\n",
       "      <td>Subject: enron methanol ; meter # : 988291\\r\\n...</td>\n",
       "      <td>0</td>\n",
       "      <td>enron methanol meter 988291 this follow up not...</td>\n",
       "    </tr>\n",
       "    <tr>\n",
       "      <th>1</th>\n",
       "      <td>ham</td>\n",
       "      <td>Subject: hpl nom for january 9 , 2001\\r\\n( see...</td>\n",
       "      <td>0</td>\n",
       "      <td>hpl nom january 9 2001 see attached file hplno...</td>\n",
       "    </tr>\n",
       "    <tr>\n",
       "      <th>2</th>\n",
       "      <td>ham</td>\n",
       "      <td>Subject: neon retreat\\r\\nho ho ho , we ' re ar...</td>\n",
       "      <td>0</td>\n",
       "      <td>neon retreat ho ho ho we re around most wonder...</td>\n",
       "    </tr>\n",
       "    <tr>\n",
       "      <th>3</th>\n",
       "      <td>spam</td>\n",
       "      <td>Subject: photoshop , windows , office . cheap ...</td>\n",
       "      <td>1</td>\n",
       "      <td>photoshop windows office cheap main trending a...</td>\n",
       "    </tr>\n",
       "    <tr>\n",
       "      <th>4</th>\n",
       "      <td>ham</td>\n",
       "      <td>Subject: re : indian springs\\r\\nthis deal is t...</td>\n",
       "      <td>0</td>\n",
       "      <td>re indian springs this deal book teco pvr reve...</td>\n",
       "    </tr>\n",
       "    <tr>\n",
       "      <th>...</th>\n",
       "      <td>...</td>\n",
       "      <td>...</td>\n",
       "      <td>...</td>\n",
       "      <td>...</td>\n",
       "    </tr>\n",
       "    <tr>\n",
       "      <th>5166</th>\n",
       "      <td>ham</td>\n",
       "      <td>Subject: put the 10 on the ft\\r\\nthe transport...</td>\n",
       "      <td>0</td>\n",
       "      <td>put 10 on ft transport volumes decreased from ...</td>\n",
       "    </tr>\n",
       "    <tr>\n",
       "      <th>5167</th>\n",
       "      <td>ham</td>\n",
       "      <td>Subject: 3 / 4 / 2000 and following noms\\r\\nhp...</td>\n",
       "      <td>0</td>\n",
       "      <td>3 4 2000 following noms hpl can t take extra 1...</td>\n",
       "    </tr>\n",
       "    <tr>\n",
       "      <th>5168</th>\n",
       "      <td>ham</td>\n",
       "      <td>Subject: calpine daily gas nomination\\r\\n&gt;\\r\\n...</td>\n",
       "      <td>0</td>\n",
       "      <td>calpine daily gas nomination julie as i mentio...</td>\n",
       "    </tr>\n",
       "    <tr>\n",
       "      <th>5169</th>\n",
       "      <td>ham</td>\n",
       "      <td>Subject: industrial worksheets for august 2000...</td>\n",
       "      <td>0</td>\n",
       "      <td>industrial worksheets august 2000 activity att...</td>\n",
       "    </tr>\n",
       "    <tr>\n",
       "      <th>5170</th>\n",
       "      <td>spam</td>\n",
       "      <td>Subject: important online banking alert\\r\\ndea...</td>\n",
       "      <td>1</td>\n",
       "      <td>important online banking alert dear valued cit...</td>\n",
       "    </tr>\n",
       "  </tbody>\n",
       "</table>\n",
       "<p>5171 rows × 4 columns</p>\n",
       "</div>"
      ],
      "text/plain": [
       "     label                                               text  label_num  \\\n",
       "0      ham  Subject: enron methanol ; meter # : 988291\\r\\n...          0   \n",
       "1      ham  Subject: hpl nom for january 9 , 2001\\r\\n( see...          0   \n",
       "2      ham  Subject: neon retreat\\r\\nho ho ho , we ' re ar...          0   \n",
       "3     spam  Subject: photoshop , windows , office . cheap ...          1   \n",
       "4      ham  Subject: re : indian springs\\r\\nthis deal is t...          0   \n",
       "...    ...                                                ...        ...   \n",
       "5166   ham  Subject: put the 10 on the ft\\r\\nthe transport...          0   \n",
       "5167   ham  Subject: 3 / 4 / 2000 and following noms\\r\\nhp...          0   \n",
       "5168   ham  Subject: calpine daily gas nomination\\r\\n>\\r\\n...          0   \n",
       "5169   ham  Subject: industrial worksheets for august 2000...          0   \n",
       "5170  spam  Subject: important online banking alert\\r\\ndea...          1   \n",
       "\n",
       "                                             clean_text  \n",
       "0     enron methanol meter 988291 this follow up not...  \n",
       "1     hpl nom january 9 2001 see attached file hplno...  \n",
       "2     neon retreat ho ho ho we re around most wonder...  \n",
       "3     photoshop windows office cheap main trending a...  \n",
       "4     re indian springs this deal book teco pvr reve...  \n",
       "...                                                 ...  \n",
       "5166  put 10 on ft transport volumes decreased from ...  \n",
       "5167  3 4 2000 following noms hpl can t take extra 1...  \n",
       "5168  calpine daily gas nomination julie as i mentio...  \n",
       "5169  industrial worksheets august 2000 activity att...  \n",
       "5170  important online banking alert dear valued cit...  \n",
       "\n",
       "[5171 rows x 4 columns]"
      ]
     },
     "execution_count": 19,
     "metadata": {},
     "output_type": "execute_result"
    }
   ],
   "source": [
    "df"
   ]
  },
  {
   "cell_type": "markdown",
   "id": "d7e7b329",
   "metadata": {},
   "source": [
    "**Since we have cleaned the text data that will be used to feed to the model, so we can drop raw data**"
   ]
  },
  {
   "cell_type": "code",
   "execution_count": 20,
   "id": "aa93b3ef",
   "metadata": {
    "ExecuteTime": {
     "end_time": "2023-04-07T11:23:28.385231Z",
     "start_time": "2023-04-07T11:23:28.375720Z"
    }
   },
   "outputs": [],
   "source": [
    "df.drop('text', axis=1, inplace=True)"
   ]
  },
  {
   "cell_type": "code",
   "execution_count": 21,
   "id": "2dde3f3d",
   "metadata": {
    "ExecuteTime": {
     "end_time": "2023-04-07T11:23:28.417145Z",
     "start_time": "2023-04-07T11:23:28.388224Z"
    }
   },
   "outputs": [
    {
     "data": {
      "text/html": [
       "<div>\n",
       "<style scoped>\n",
       "    .dataframe tbody tr th:only-of-type {\n",
       "        vertical-align: middle;\n",
       "    }\n",
       "\n",
       "    .dataframe tbody tr th {\n",
       "        vertical-align: top;\n",
       "    }\n",
       "\n",
       "    .dataframe thead th {\n",
       "        text-align: right;\n",
       "    }\n",
       "</style>\n",
       "<table border=\"1\" class=\"dataframe\">\n",
       "  <thead>\n",
       "    <tr style=\"text-align: right;\">\n",
       "      <th></th>\n",
       "      <th>label</th>\n",
       "      <th>label_num</th>\n",
       "      <th>clean_text</th>\n",
       "    </tr>\n",
       "  </thead>\n",
       "  <tbody>\n",
       "    <tr>\n",
       "      <th>0</th>\n",
       "      <td>ham</td>\n",
       "      <td>0</td>\n",
       "      <td>enron methanol meter 988291 this follow up not...</td>\n",
       "    </tr>\n",
       "    <tr>\n",
       "      <th>1</th>\n",
       "      <td>ham</td>\n",
       "      <td>0</td>\n",
       "      <td>hpl nom january 9 2001 see attached file hplno...</td>\n",
       "    </tr>\n",
       "    <tr>\n",
       "      <th>2</th>\n",
       "      <td>ham</td>\n",
       "      <td>0</td>\n",
       "      <td>neon retreat ho ho ho we re around most wonder...</td>\n",
       "    </tr>\n",
       "    <tr>\n",
       "      <th>3</th>\n",
       "      <td>spam</td>\n",
       "      <td>1</td>\n",
       "      <td>photoshop windows office cheap main trending a...</td>\n",
       "    </tr>\n",
       "    <tr>\n",
       "      <th>4</th>\n",
       "      <td>ham</td>\n",
       "      <td>0</td>\n",
       "      <td>re indian springs this deal book teco pvr reve...</td>\n",
       "    </tr>\n",
       "    <tr>\n",
       "      <th>...</th>\n",
       "      <td>...</td>\n",
       "      <td>...</td>\n",
       "      <td>...</td>\n",
       "    </tr>\n",
       "    <tr>\n",
       "      <th>5166</th>\n",
       "      <td>ham</td>\n",
       "      <td>0</td>\n",
       "      <td>put 10 on ft transport volumes decreased from ...</td>\n",
       "    </tr>\n",
       "    <tr>\n",
       "      <th>5167</th>\n",
       "      <td>ham</td>\n",
       "      <td>0</td>\n",
       "      <td>3 4 2000 following noms hpl can t take extra 1...</td>\n",
       "    </tr>\n",
       "    <tr>\n",
       "      <th>5168</th>\n",
       "      <td>ham</td>\n",
       "      <td>0</td>\n",
       "      <td>calpine daily gas nomination julie as i mentio...</td>\n",
       "    </tr>\n",
       "    <tr>\n",
       "      <th>5169</th>\n",
       "      <td>ham</td>\n",
       "      <td>0</td>\n",
       "      <td>industrial worksheets august 2000 activity att...</td>\n",
       "    </tr>\n",
       "    <tr>\n",
       "      <th>5170</th>\n",
       "      <td>spam</td>\n",
       "      <td>1</td>\n",
       "      <td>important online banking alert dear valued cit...</td>\n",
       "    </tr>\n",
       "  </tbody>\n",
       "</table>\n",
       "<p>5171 rows × 3 columns</p>\n",
       "</div>"
      ],
      "text/plain": [
       "     label  label_num                                         clean_text\n",
       "0      ham          0  enron methanol meter 988291 this follow up not...\n",
       "1      ham          0  hpl nom january 9 2001 see attached file hplno...\n",
       "2      ham          0  neon retreat ho ho ho we re around most wonder...\n",
       "3     spam          1  photoshop windows office cheap main trending a...\n",
       "4      ham          0  re indian springs this deal book teco pvr reve...\n",
       "...    ...        ...                                                ...\n",
       "5166   ham          0  put 10 on ft transport volumes decreased from ...\n",
       "5167   ham          0  3 4 2000 following noms hpl can t take extra 1...\n",
       "5168   ham          0  calpine daily gas nomination julie as i mentio...\n",
       "5169   ham          0  industrial worksheets august 2000 activity att...\n",
       "5170  spam          1  important online banking alert dear valued cit...\n",
       "\n",
       "[5171 rows x 3 columns]"
      ]
     },
     "execution_count": 21,
     "metadata": {},
     "output_type": "execute_result"
    }
   ],
   "source": [
    "df"
   ]
  },
  {
   "cell_type": "markdown",
   "id": "31a540a9",
   "metadata": {},
   "source": [
    "**Now that we have cleaned our text data so its time to split the train and test variable for this we will need to import train test split module from Scikitlearn library**"
   ]
  },
  {
   "cell_type": "code",
   "execution_count": 22,
   "id": "d5fd791f",
   "metadata": {
    "ExecuteTime": {
     "end_time": "2023-04-07T11:23:30.152485Z",
     "start_time": "2023-04-07T11:23:28.420137Z"
    }
   },
   "outputs": [],
   "source": [
    "import sklearn\n",
    "from sklearn.model_selection import train_test_split"
   ]
  },
  {
   "cell_type": "code",
   "execution_count": 23,
   "id": "5b180d4e",
   "metadata": {
    "ExecuteTime": {
     "end_time": "2023-04-07T11:23:30.168442Z",
     "start_time": "2023-04-07T11:23:30.155476Z"
    }
   },
   "outputs": [],
   "source": [
    "X = df['clean_text']\n",
    "y = df['label_num'] "
   ]
  },
  {
   "cell_type": "code",
   "execution_count": 24,
   "id": "e2801102",
   "metadata": {
    "ExecuteTime": {
     "end_time": "2023-04-07T11:23:30.183403Z",
     "start_time": "2023-04-07T11:23:30.171436Z"
    }
   },
   "outputs": [
    {
     "data": {
      "text/plain": [
       "0       enron methanol meter 988291 this follow up not...\n",
       "1       hpl nom january 9 2001 see attached file hplno...\n",
       "2       neon retreat ho ho ho we re around most wonder...\n",
       "3       photoshop windows office cheap main trending a...\n",
       "4       re indian springs this deal book teco pvr reve...\n",
       "                              ...                        \n",
       "5166    put 10 on ft transport volumes decreased from ...\n",
       "5167    3 4 2000 following noms hpl can t take extra 1...\n",
       "5168    calpine daily gas nomination julie as i mentio...\n",
       "5169    industrial worksheets august 2000 activity att...\n",
       "5170    important online banking alert dear valued cit...\n",
       "Name: clean_text, Length: 5171, dtype: object"
      ]
     },
     "execution_count": 24,
     "metadata": {},
     "output_type": "execute_result"
    }
   ],
   "source": [
    "X"
   ]
  },
  {
   "cell_type": "code",
   "execution_count": 25,
   "id": "b6a33519",
   "metadata": {
    "ExecuteTime": {
     "end_time": "2023-04-07T11:23:30.199360Z",
     "start_time": "2023-04-07T11:23:30.186395Z"
    }
   },
   "outputs": [
    {
     "data": {
      "text/plain": [
       "0       0\n",
       "1       0\n",
       "2       0\n",
       "3       1\n",
       "4       0\n",
       "       ..\n",
       "5166    0\n",
       "5167    0\n",
       "5168    0\n",
       "5169    0\n",
       "5170    1\n",
       "Name: label_num, Length: 5171, dtype: int64"
      ]
     },
     "execution_count": 25,
     "metadata": {},
     "output_type": "execute_result"
    }
   ],
   "source": [
    "y"
   ]
  },
  {
   "cell_type": "code",
   "execution_count": 26,
   "id": "7b5db181",
   "metadata": {
    "ExecuteTime": {
     "end_time": "2023-04-07T11:23:30.214616Z",
     "start_time": "2023-04-07T11:23:30.204643Z"
    }
   },
   "outputs": [],
   "source": [
    "X_train, X_test, y_train, y_test = train_test_split(X, y, test_size=0.3, random_state=42)"
   ]
  },
  {
   "cell_type": "code",
   "execution_count": 27,
   "id": "dcf01c7d",
   "metadata": {
    "ExecuteTime": {
     "end_time": "2023-04-07T11:23:30.245562Z",
     "start_time": "2023-04-07T11:23:30.219602Z"
    }
   },
   "outputs": [
    {
     "data": {
      "text/plain": [
       "1023    re tenaska i see demand fee changes williams p...\n",
       "4586    strong buy alert monthly newsletter topstocks ...\n",
       "2955    performance feedback each you have been chosen...\n",
       "2495    hr performance objectives binders good morning...\n",
       "3353    fw fwd fw drawing by school age child pa fwd t...\n",
       "                              ...                        \n",
       "4426    re ena sales on hpl last i had was legal was r...\n",
       "466     tenaska iv bob i understand from sandi you ll ...\n",
       "3092    broom bristles up flew be differentiable onoma...\n",
       "3772    calpine daily gas nomination weekend ricky arc...\n",
       "860     re meter 1459 6 00 yep you re right except s o...\n",
       "Name: clean_text, Length: 3619, dtype: object"
      ]
     },
     "execution_count": 27,
     "metadata": {},
     "output_type": "execute_result"
    }
   ],
   "source": [
    "X_train"
   ]
  },
  {
   "cell_type": "code",
   "execution_count": 28,
   "id": "91d9a62d",
   "metadata": {
    "ExecuteTime": {
     "end_time": "2023-04-07T11:23:30.278449Z",
     "start_time": "2023-04-07T11:23:30.252525Z"
    }
   },
   "outputs": [
    {
     "data": {
      "text/plain": [
       "1566    hpl nom march 30 2001 see attached file hplno ...\n",
       "1988    online pharxmacy 80 off all meds disscount pha...\n",
       "1235    re nom actual volume april 17 th we agree eile...\n",
       "2868    re meter 8740 dec 99 robert i put our heads to...\n",
       "4903    re coastal oil gas corporation melissa deal 34...\n",
       "                              ...                        \n",
       "5135    revision 1 enron hpl actuals august 3 2000 iss...\n",
       "2298    re discrepancies price gas redelivered at mobi...\n",
       "1519    well head here list meter i moved from lst on ...\n",
       "1740    jordyn there nothing like dream create future ...\n",
       "1700    union gas thamm 1 tom thamm 1 well came on lin...\n",
       "Name: clean_text, Length: 1552, dtype: object"
      ]
     },
     "execution_count": 28,
     "metadata": {},
     "output_type": "execute_result"
    }
   ],
   "source": [
    "X_test"
   ]
  },
  {
   "cell_type": "markdown",
   "id": "cbc0508c",
   "metadata": {},
   "source": [
    "# Feature Extraction"
   ]
  },
  {
   "cell_type": "code",
   "execution_count": 29,
   "id": "d6109950",
   "metadata": {
    "ExecuteTime": {
     "end_time": "2023-04-07T11:23:30.325333Z",
     "start_time": "2023-04-07T11:23:30.288423Z"
    }
   },
   "outputs": [],
   "source": [
    "from sklearn.feature_extraction.text import TfidfVectorizer"
   ]
  },
  {
   "cell_type": "code",
   "execution_count": 30,
   "id": "fdc8a86e",
   "metadata": {
    "ExecuteTime": {
     "end_time": "2023-04-07T11:23:31.651573Z",
     "start_time": "2023-04-07T11:23:30.328316Z"
    }
   },
   "outputs": [],
   "source": [
    "# transform the text data to feature vectors that can be used as input to the Logistic regression\n",
    "\n",
    "feature_extraction = TfidfVectorizer(max_df=0.7, stop_words='english')\n",
    "\n",
    "X_train_features = feature_extraction.fit_transform(X_train)\n",
    "X_test_features = feature_extraction.transform(X_test)\n",
    "\n",
    "# convert Y_train and Y_test values as integers\n",
    "\n",
    "y_train = y_train.astype('int')\n",
    "y_test = y_test.astype('int')"
   ]
  },
  {
   "cell_type": "code",
   "execution_count": 31,
   "id": "52244435",
   "metadata": {
    "ExecuteTime": {
     "end_time": "2023-04-07T11:23:31.667513Z",
     "start_time": "2023-04-07T11:23:31.654547Z"
    }
   },
   "outputs": [
    {
     "data": {
      "text/plain": [
       "(1566    0\n",
       " 1988    1\n",
       " 1235    0\n",
       " 2868    0\n",
       " 4903    0\n",
       "        ..\n",
       " 5135    0\n",
       " 2298    0\n",
       " 1519    0\n",
       " 1740    1\n",
       " 1700    0\n",
       " Name: label_num, Length: 1552, dtype: int32,\n",
       " 1023    0\n",
       " 4586    1\n",
       " 2955    0\n",
       " 2495    0\n",
       " 3353    0\n",
       "        ..\n",
       " 4426    0\n",
       " 466     0\n",
       " 3092    1\n",
       " 3772    0\n",
       " 860     0\n",
       " Name: label_num, Length: 3619, dtype: int32)"
      ]
     },
     "execution_count": 31,
     "metadata": {},
     "output_type": "execute_result"
    }
   ],
   "source": [
    "y_test, y_train"
   ]
  },
  {
   "cell_type": "code",
   "execution_count": 32,
   "id": "769707ba",
   "metadata": {
    "ExecuteTime": {
     "end_time": "2023-04-07T11:23:31.683473Z",
     "start_time": "2023-04-07T11:23:31.669518Z"
    }
   },
   "outputs": [
    {
     "name": "stdout",
     "output_type": "stream",
     "text": [
      "  (0, 40502)\t0.34416867567520637\n",
      "  (0, 27174)\t0.1646067888834387\n",
      "  (0, 24928)\t0.197087795068719\n",
      "  (0, 20406)\t0.49655991440974956\n",
      "  (0, 20401)\t0.13037863127281704\n",
      "  (0, 17089)\t0.168138035912095\n",
      "  (0, 6274)\t0.14199092872157937\n",
      "  (0, 1509)\t0.6750070496138264\n",
      "  (0, 1379)\t0.16217284181745661\n",
      "  (0, 932)\t0.14721488399652838\n",
      "  (1, 41154)\t0.005154297078281474\n",
      "  (1, 40971)\t0.08870355300858138\n",
      "  (1, 39930)\t0.06910443214882987\n",
      "  (1, 39514)\t0.08147098934494065\n",
      "  (1, 39303)\t0.09552690324001073\n",
      "  (1, 38929)\t0.004029150619894842\n",
      "  (1, 38814)\t0.08870355300858138\n",
      "  (1, 38684)\t0.09552690324001073\n",
      "  (1, 38141)\t0.09552690324001073\n",
      "  (1, 37901)\t0.08447277448127313\n",
      "  (1, 37653)\t0.07300943229032412\n",
      "  (1, 37471)\t0.05054499158560902\n",
      "  (1, 37239)\t0.0037503107316411567\n",
      "  (1, 37204)\t0.08870355300858138\n",
      "  (1, 37192)\t0.002804269307207404\n",
      "  :\t:\n",
      "  (1551, 20439)\t0.12623257519242975\n",
      "  (1551, 18381)\t0.223172375027066\n",
      "  (1551, 18195)\t0.16824692943813288\n",
      "  (1551, 18169)\t0.14040130272918946\n",
      "  (1551, 17544)\t0.18735496063825638\n",
      "  (1551, 17478)\t0.09334446466623403\n",
      "  (1551, 17206)\t0.26814458815776304\n",
      "  (1551, 13258)\t0.11645473731176637\n",
      "  (1551, 12960)\t0.14930698456170213\n",
      "  (1551, 12841)\t0.12734654743526422\n",
      "  (1551, 12206)\t0.24530810093658295\n",
      "  (1551, 12030)\t0.12080010416653945\n",
      "  (1551, 11895)\t0.1392438366717634\n",
      "  (1551, 11672)\t0.0960381931436027\n",
      "  (1551, 11308)\t0.14617183706087766\n",
      "  (1551, 9193)\t0.14977265170889345\n",
      "  (1551, 9163)\t0.15969686934539146\n",
      "  (1551, 6941)\t0.16260134919745475\n",
      "  (1551, 6939)\t0.11045690257392969\n",
      "  (1551, 2603)\t0.131643435585677\n",
      "  (1551, 2162)\t0.11551379061393122\n",
      "  (1551, 2010)\t0.11442547578991144\n",
      "  (1551, 219)\t0.1054051772273424\n",
      "  (1551, 218)\t0.07034404342705969\n",
      "  (1551, 0)\t0.07986508582056219\n"
     ]
    }
   ],
   "source": [
    "print(X_test_features)"
   ]
  },
  {
   "cell_type": "code",
   "execution_count": 33,
   "id": "ee8d96af",
   "metadata": {
    "ExecuteTime": {
     "end_time": "2023-04-07T11:23:31.715384Z",
     "start_time": "2023-04-07T11:23:31.688458Z"
    }
   },
   "outputs": [
    {
     "name": "stdout",
     "output_type": "stream",
     "text": [
      "  (0, 25418)\t0.15821151628187405\n",
      "  (0, 18758)\t0.1356706809736233\n",
      "  (0, 26187)\t0.148728485628434\n",
      "  (0, 786)\t0.21194839304669752\n",
      "  (0, 7629)\t0.1905651691875485\n",
      "  (0, 1747)\t0.23921350094621516\n",
      "  (0, 12960)\t0.09105072028163443\n",
      "  (0, 1327)\t0.21807841116538249\n",
      "  (0, 306)\t0.09971342523140354\n",
      "  (0, 0)\t0.19481402321970076\n",
      "  (0, 218)\t0.08579472474590763\n",
      "  (0, 30237)\t0.28596107994725917\n",
      "  (0, 5617)\t0.5503815950072573\n",
      "  (0, 30323)\t0.1546313271057508\n",
      "  (0, 18991)\t0.14066086061309693\n",
      "  (0, 24312)\t0.17563930136652162\n",
      "  (0, 9952)\t0.22809920915246173\n",
      "  (0, 30233)\t0.22115670197691903\n",
      "  (0, 39909)\t0.1811408523085531\n",
      "  (0, 9956)\t0.13528642519112732\n",
      "  (0, 16886)\t0.15395886438958267\n",
      "  (0, 13285)\t0.1617959503939296\n",
      "  (0, 36635)\t0.15395886438958267\n",
      "  (1, 17946)\t0.0194183589065498\n",
      "  (1, 26544)\t0.021623728175877176\n",
      "  :\t:\n",
      "  (3618, 29807)\t0.08546632258737796\n",
      "  (3618, 25582)\t0.2048907484204242\n",
      "  (3618, 23816)\t0.14452644018456617\n",
      "  (3618, 12883)\t0.05330618870547384\n",
      "  (3618, 23461)\t0.17711714791321959\n",
      "  (3618, 4791)\t0.3321769042544792\n",
      "  (3618, 9684)\t0.0839171818595245\n",
      "  (3618, 15036)\t0.19292598695940386\n",
      "  (3618, 20362)\t0.09748778803866955\n",
      "  (3618, 48)\t0.05162680195703611\n",
      "  (3618, 16753)\t0.10917970323742138\n",
      "  (3618, 12796)\t0.1371073965419021\n",
      "  (3618, 928)\t0.07719980044574436\n",
      "  (3618, 22632)\t0.21217664434321837\n",
      "  (3618, 369)\t0.05186692412621358\n",
      "  (3618, 36801)\t0.03985658815898447\n",
      "  (3618, 23126)\t0.13331551099890837\n",
      "  (3618, 26808)\t0.047980823601025555\n",
      "  (3618, 716)\t0.06461423403687044\n",
      "  (3618, 442)\t0.0667445253770152\n",
      "  (3618, 33868)\t0.20640912514235576\n",
      "  (3618, 27384)\t0.06468600903991181\n",
      "  (3618, 29651)\t0.0920912942909062\n",
      "  (3618, 12960)\t0.14198827320571053\n",
      "  (3618, 0)\t0.2531675629771852\n"
     ]
    }
   ],
   "source": [
    "print(X_train_features)"
   ]
  },
  {
   "cell_type": "markdown",
   "id": "1658dcb4",
   "metadata": {},
   "source": [
    "**Now that everything is done, we will finally train our machine learning logistic regression model on the above data**"
   ]
  },
  {
   "cell_type": "code",
   "execution_count": 34,
   "id": "6487a2b0",
   "metadata": {
    "ExecuteTime": {
     "end_time": "2023-04-07T11:23:31.825396Z",
     "start_time": "2023-04-07T11:23:31.719374Z"
    }
   },
   "outputs": [],
   "source": [
    "from sklearn.linear_model import LogisticRegression"
   ]
  },
  {
   "cell_type": "code",
   "execution_count": 35,
   "id": "247830f1",
   "metadata": {
    "ExecuteTime": {
     "end_time": "2023-04-07T11:23:31.841378Z",
     "start_time": "2023-04-07T11:23:31.828389Z"
    }
   },
   "outputs": [],
   "source": [
    "model = LogisticRegression()"
   ]
  },
  {
   "cell_type": "markdown",
   "id": "da1e63da",
   "metadata": {},
   "source": [
    "**Training the Logistic Regression model with the training data.**"
   ]
  },
  {
   "cell_type": "code",
   "execution_count": 36,
   "id": "aaf9605c",
   "metadata": {
    "ExecuteTime": {
     "end_time": "2023-04-07T11:23:32.266345Z",
     "start_time": "2023-04-07T11:23:31.843901Z"
    }
   },
   "outputs": [
    {
     "data": {
      "text/html": [
       "<style>#sk-container-id-1 {color: black;background-color: white;}#sk-container-id-1 pre{padding: 0;}#sk-container-id-1 div.sk-toggleable {background-color: white;}#sk-container-id-1 label.sk-toggleable__label {cursor: pointer;display: block;width: 100%;margin-bottom: 0;padding: 0.3em;box-sizing: border-box;text-align: center;}#sk-container-id-1 label.sk-toggleable__label-arrow:before {content: \"▸\";float: left;margin-right: 0.25em;color: #696969;}#sk-container-id-1 label.sk-toggleable__label-arrow:hover:before {color: black;}#sk-container-id-1 div.sk-estimator:hover label.sk-toggleable__label-arrow:before {color: black;}#sk-container-id-1 div.sk-toggleable__content {max-height: 0;max-width: 0;overflow: hidden;text-align: left;background-color: #f0f8ff;}#sk-container-id-1 div.sk-toggleable__content pre {margin: 0.2em;color: black;border-radius: 0.25em;background-color: #f0f8ff;}#sk-container-id-1 input.sk-toggleable__control:checked~div.sk-toggleable__content {max-height: 200px;max-width: 100%;overflow: auto;}#sk-container-id-1 input.sk-toggleable__control:checked~label.sk-toggleable__label-arrow:before {content: \"▾\";}#sk-container-id-1 div.sk-estimator input.sk-toggleable__control:checked~label.sk-toggleable__label {background-color: #d4ebff;}#sk-container-id-1 div.sk-label input.sk-toggleable__control:checked~label.sk-toggleable__label {background-color: #d4ebff;}#sk-container-id-1 input.sk-hidden--visually {border: 0;clip: rect(1px 1px 1px 1px);clip: rect(1px, 1px, 1px, 1px);height: 1px;margin: -1px;overflow: hidden;padding: 0;position: absolute;width: 1px;}#sk-container-id-1 div.sk-estimator {font-family: monospace;background-color: #f0f8ff;border: 1px dotted black;border-radius: 0.25em;box-sizing: border-box;margin-bottom: 0.5em;}#sk-container-id-1 div.sk-estimator:hover {background-color: #d4ebff;}#sk-container-id-1 div.sk-parallel-item::after {content: \"\";width: 100%;border-bottom: 1px solid gray;flex-grow: 1;}#sk-container-id-1 div.sk-label:hover label.sk-toggleable__label {background-color: #d4ebff;}#sk-container-id-1 div.sk-serial::before {content: \"\";position: absolute;border-left: 1px solid gray;box-sizing: border-box;top: 0;bottom: 0;left: 50%;z-index: 0;}#sk-container-id-1 div.sk-serial {display: flex;flex-direction: column;align-items: center;background-color: white;padding-right: 0.2em;padding-left: 0.2em;position: relative;}#sk-container-id-1 div.sk-item {position: relative;z-index: 1;}#sk-container-id-1 div.sk-parallel {display: flex;align-items: stretch;justify-content: center;background-color: white;position: relative;}#sk-container-id-1 div.sk-item::before, #sk-container-id-1 div.sk-parallel-item::before {content: \"\";position: absolute;border-left: 1px solid gray;box-sizing: border-box;top: 0;bottom: 0;left: 50%;z-index: -1;}#sk-container-id-1 div.sk-parallel-item {display: flex;flex-direction: column;z-index: 1;position: relative;background-color: white;}#sk-container-id-1 div.sk-parallel-item:first-child::after {align-self: flex-end;width: 50%;}#sk-container-id-1 div.sk-parallel-item:last-child::after {align-self: flex-start;width: 50%;}#sk-container-id-1 div.sk-parallel-item:only-child::after {width: 0;}#sk-container-id-1 div.sk-dashed-wrapped {border: 1px dashed gray;margin: 0 0.4em 0.5em 0.4em;box-sizing: border-box;padding-bottom: 0.4em;background-color: white;}#sk-container-id-1 div.sk-label label {font-family: monospace;font-weight: bold;display: inline-block;line-height: 1.2em;}#sk-container-id-1 div.sk-label-container {text-align: center;}#sk-container-id-1 div.sk-container {/* jupyter's `normalize.less` sets `[hidden] { display: none; }` but bootstrap.min.css set `[hidden] { display: none !important; }` so we also need the `!important` here to be able to override the default hidden behavior on the sphinx rendered scikit-learn.org. See: https://github.com/scikit-learn/scikit-learn/issues/21755 */display: inline-block !important;position: relative;}#sk-container-id-1 div.sk-text-repr-fallback {display: none;}</style><div id=\"sk-container-id-1\" class=\"sk-top-container\"><div class=\"sk-text-repr-fallback\"><pre>LogisticRegression()</pre><b>In a Jupyter environment, please rerun this cell to show the HTML representation or trust the notebook. <br />On GitHub, the HTML representation is unable to render, please try loading this page with nbviewer.org.</b></div><div class=\"sk-container\" hidden><div class=\"sk-item\"><div class=\"sk-estimator sk-toggleable\"><input class=\"sk-toggleable__control sk-hidden--visually\" id=\"sk-estimator-id-1\" type=\"checkbox\" checked><label for=\"sk-estimator-id-1\" class=\"sk-toggleable__label sk-toggleable__label-arrow\">LogisticRegression</label><div class=\"sk-toggleable__content\"><pre>LogisticRegression()</pre></div></div></div></div></div>"
      ],
      "text/plain": [
       "LogisticRegression()"
      ]
     },
     "execution_count": 36,
     "metadata": {},
     "output_type": "execute_result"
    }
   ],
   "source": [
    "model.fit(X_train_features, y_train)"
   ]
  },
  {
   "cell_type": "markdown",
   "id": "f7c6a260",
   "metadata": {},
   "source": [
    "**Our model if fitted and now its time to check the accuracy of  model, but before we will Evaluate this model.**\n",
    "\n",
    "**Prediction made by our model on given training data**"
   ]
  },
  {
   "cell_type": "code",
   "execution_count": 37,
   "id": "50cbbcef",
   "metadata": {
    "ExecuteTime": {
     "end_time": "2023-04-07T11:23:32.281295Z",
     "start_time": "2023-04-07T11:23:32.270327Z"
    }
   },
   "outputs": [],
   "source": [
    "prediction_on_training_data = model.predict(X_train_features)"
   ]
  },
  {
   "cell_type": "code",
   "execution_count": 38,
   "id": "cf1bc620",
   "metadata": {
    "ExecuteTime": {
     "end_time": "2023-04-07T11:23:32.313209Z",
     "start_time": "2023-04-07T11:23:32.284288Z"
    }
   },
   "outputs": [
    {
     "data": {
      "text/plain": [
       "array([0, 1, 0, ..., 1, 0, 0])"
      ]
     },
     "execution_count": 38,
     "metadata": {},
     "output_type": "execute_result"
    }
   ],
   "source": [
    "prediction_on_training_data"
   ]
  },
  {
   "cell_type": "code",
   "execution_count": 39,
   "id": "5dd88315",
   "metadata": {
    "ExecuteTime": {
     "end_time": "2023-04-07T11:23:32.329167Z",
     "start_time": "2023-04-07T11:23:32.317201Z"
    }
   },
   "outputs": [],
   "source": [
    "prediction_on_test_data = model.predict(X_test_features)"
   ]
  },
  {
   "cell_type": "code",
   "execution_count": 40,
   "id": "3298f09a",
   "metadata": {
    "ExecuteTime": {
     "end_time": "2023-04-07T11:23:32.345126Z",
     "start_time": "2023-04-07T11:23:32.337147Z"
    }
   },
   "outputs": [
    {
     "data": {
      "text/plain": [
       "array([0, 1, 0, ..., 0, 1, 0])"
      ]
     },
     "execution_count": 40,
     "metadata": {},
     "output_type": "execute_result"
    }
   ],
   "source": [
    "prediction_on_test_data"
   ]
  },
  {
   "cell_type": "code",
   "execution_count": 41,
   "id": "29325656",
   "metadata": {
    "ExecuteTime": {
     "end_time": "2023-04-07T11:23:32.376052Z",
     "start_time": "2023-04-07T11:23:32.356097Z"
    }
   },
   "outputs": [],
   "source": [
    "from sklearn.metrics import accuracy_score"
   ]
  },
  {
   "cell_type": "markdown",
   "id": "33eb4fa8",
   "metadata": {},
   "source": [
    "##### Accuracy of prediction on training data"
   ]
  },
  {
   "cell_type": "code",
   "execution_count": 42,
   "id": "1c6f90fa",
   "metadata": {
    "ExecuteTime": {
     "end_time": "2023-04-07T11:23:32.391459Z",
     "start_time": "2023-04-07T11:23:32.379043Z"
    }
   },
   "outputs": [],
   "source": [
    "accuracy_on_training_data = accuracy_score(y_train, prediction_on_training_data)"
   ]
  },
  {
   "cell_type": "code",
   "execution_count": 43,
   "id": "a3c1f320",
   "metadata": {
    "ExecuteTime": {
     "end_time": "2023-04-07T11:23:32.407380Z",
     "start_time": "2023-04-07T11:23:32.393418Z"
    }
   },
   "outputs": [
    {
     "data": {
      "text/plain": [
       "0.9961315280464217"
      ]
     },
     "execution_count": 43,
     "metadata": {},
     "output_type": "execute_result"
    }
   ],
   "source": [
    "accuracy_on_training_data"
   ]
  },
  {
   "cell_type": "code",
   "execution_count": 44,
   "id": "30877740",
   "metadata": {
    "ExecuteTime": {
     "end_time": "2023-04-07T11:23:32.423252Z",
     "start_time": "2023-04-07T11:23:32.409376Z"
    }
   },
   "outputs": [],
   "source": [
    "accuracy_on_test_data = accuracy_score(y_test, prediction_on_test_data)"
   ]
  },
  {
   "cell_type": "code",
   "execution_count": 45,
   "id": "95ee017e",
   "metadata": {
    "ExecuteTime": {
     "end_time": "2023-04-07T11:23:32.438219Z",
     "start_time": "2023-04-07T11:23:32.425247Z"
    }
   },
   "outputs": [
    {
     "data": {
      "text/plain": [
       "0.9903350515463918"
      ]
     },
     "execution_count": 45,
     "metadata": {},
     "output_type": "execute_result"
    }
   ],
   "source": [
    "accuracy_on_test_data"
   ]
  },
  {
   "cell_type": "markdown",
   "id": "fdbd6db6",
   "metadata": {},
   "source": [
    "**The accuracy of our model is 0.99**\n",
    "\n",
    "**We can easily that our model is** $99\\%$ **accurate, this accuracy is really very good for any model.**"
   ]
  },
  {
   "cell_type": "markdown",
   "id": "0e3c91f0",
   "metadata": {
    "ExecuteTime": {
     "end_time": "2023-04-07T11:23:32.453749Z",
     "start_time": "2023-04-07T11:23:32.441207Z"
    }
   },
   "source": [
    "We want to notify you that the NSE & MCX will be conducting a Mock Trading Day tomorrow, 1st April, 2023. The event will feature simulated data and a mock trading session from 9:00 AM to 6:00 PM. Please note that your trading will be temporarily moved from the primary to the DR site during this activity. This may result in some technical difficulties, and we apologise for any inconvenience this may cause. Below is the schedule for the Mock Trading Day for Primary and DR site participation"
   ]
  },
  {
   "cell_type": "code",
   "execution_count": 47,
   "id": "1c535574",
   "metadata": {
    "ExecuteTime": {
     "end_time": "2023-04-07T11:26:56.815634Z",
     "start_time": "2023-04-07T11:26:54.033370Z"
    }
   },
   "outputs": [
    {
     "name": "stdout",
     "output_type": "stream",
     "text": [
      "Enter : We want to notify you that the NSE & MCX will be conducting a Mock Trading Day tomorrow, 1st April, 2023. The event will feature simulated data and a mock trading session from 9:00 AM to 6:00 PM. Please note that your trading will be temporarily moved from the primary to the DR site during this activity. This may result in some technical difficulties, and we apologise for any inconvenience this may cause. Below is the schedule for the Mock Trading Day for Primary and DR site participation\n",
      "[0]\n",
      " \n",
      " Spam mail\n"
     ]
    }
   ],
   "source": [
    "input_mail = [input('Enter : ')]\n",
    "# convert text to feature vectors\n",
    "input_data_features = feature_extraction.transform(input_mail)\n",
    "\n",
    "# making prediction\n",
    "\n",
    "prediction = model.predict(input_data_features)\n",
    "print(prediction)\n",
    "\n",
    "\n",
    "if (prediction[0]==1):\n",
    "    print('\\n Ham mail')\n",
    "\n",
    "else:\n",
    "    print(' \\n Spam mail')"
   ]
  }
 ],
 "metadata": {
  "kernelspec": {
   "display_name": "Python 3 (ipykernel)",
   "language": "python",
   "name": "python3"
  },
  "language_info": {
   "codemirror_mode": {
    "name": "ipython",
    "version": 3
   },
   "file_extension": ".py",
   "mimetype": "text/x-python",
   "name": "python",
   "nbconvert_exporter": "python",
   "pygments_lexer": "ipython3",
   "version": "3.9.12"
  },
  "latex_envs": {
   "LaTeX_envs_menu_present": true,
   "autoclose": false,
   "autocomplete": true,
   "bibliofile": "biblio.bib",
   "cite_by": "apalike",
   "current_citInitial": 1,
   "eqLabelWithNumbers": true,
   "eqNumInitial": 1,
   "hotkeys": {
    "equation": "Ctrl-E",
    "itemize": "Ctrl-I"
   },
   "labels_anchors": false,
   "latex_user_defs": false,
   "report_style_numbering": false,
   "user_envs_cfg": false
  },
  "nbTranslate": {
   "displayLangs": [
    "*"
   ],
   "hotkey": "alt-t",
   "langInMainMenu": true,
   "sourceLang": "en",
   "targetLang": "fr",
   "useGoogleTranslate": true
  },
  "toc": {
   "base_numbering": 1,
   "nav_menu": {},
   "number_sections": true,
   "sideBar": true,
   "skip_h1_title": false,
   "title_cell": "Table of Contents",
   "title_sidebar": "Contents",
   "toc_cell": false,
   "toc_position": {},
   "toc_section_display": true,
   "toc_window_display": false
  },
  "varInspector": {
   "cols": {
    "lenName": 16,
    "lenType": 16,
    "lenVar": 40
   },
   "kernels_config": {
    "python": {
     "delete_cmd_postfix": "",
     "delete_cmd_prefix": "del ",
     "library": "var_list.py",
     "varRefreshCmd": "print(var_dic_list())"
    },
    "r": {
     "delete_cmd_postfix": ") ",
     "delete_cmd_prefix": "rm(",
     "library": "var_list.r",
     "varRefreshCmd": "cat(var_dic_list()) "
    }
   },
   "types_to_exclude": [
    "module",
    "function",
    "builtin_function_or_method",
    "instance",
    "_Feature"
   ],
   "window_display": false
  }
 },
 "nbformat": 4,
 "nbformat_minor": 5
}
