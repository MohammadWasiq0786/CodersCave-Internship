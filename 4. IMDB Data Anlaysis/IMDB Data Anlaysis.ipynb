{
 "cells": [
  {
   "cell_type": "markdown",
   "id": "03a733dd",
   "metadata": {},
   "source": [
    "# IMDB Data Analysis\n",
    "\n",
    "## Name: Mohammad Wasiq\n",
    "\n",
    "## CodersCave Data Science Internship Project"
   ]
  },
  {
   "cell_type": "code",
   "execution_count": 1,
   "id": "1fe58528",
   "metadata": {
    "ExecuteTime": {
     "end_time": "2023-04-07T11:48:51.174798Z",
     "start_time": "2023-04-07T11:48:49.827657Z"
    }
   },
   "outputs": [],
   "source": [
    "# load the require libraries\n",
    "import pandas as pd \n",
    "import numpy  as np"
   ]
  },
  {
   "cell_type": "code",
   "execution_count": 2,
   "id": "ecf4f2b4",
   "metadata": {
    "ExecuteTime": {
     "end_time": "2023-04-07T11:48:51.237825Z",
     "start_time": "2023-04-07T11:48:51.178785Z"
    }
   },
   "outputs": [],
   "source": [
    "# load the dataset\n",
    "df= pd.read_csv('imdb_top_1000.csv')"
   ]
  },
  {
   "cell_type": "code",
   "execution_count": 3,
   "id": "602f7529",
   "metadata": {
    "ExecuteTime": {
     "end_time": "2023-04-07T11:48:51.300039Z",
     "start_time": "2023-04-07T11:48:51.242812Z"
    }
   },
   "outputs": [
    {
     "data": {
      "text/html": [
       "<div>\n",
       "<style scoped>\n",
       "    .dataframe tbody tr th:only-of-type {\n",
       "        vertical-align: middle;\n",
       "    }\n",
       "\n",
       "    .dataframe tbody tr th {\n",
       "        vertical-align: top;\n",
       "    }\n",
       "\n",
       "    .dataframe thead th {\n",
       "        text-align: right;\n",
       "    }\n",
       "</style>\n",
       "<table border=\"1\" class=\"dataframe\">\n",
       "  <thead>\n",
       "    <tr style=\"text-align: right;\">\n",
       "      <th></th>\n",
       "      <th>Poster_Link</th>\n",
       "      <th>Series_Title</th>\n",
       "      <th>Released_Year</th>\n",
       "      <th>Certificate</th>\n",
       "      <th>Runtime</th>\n",
       "      <th>Genre</th>\n",
       "      <th>IMDB_Rating</th>\n",
       "      <th>Overview</th>\n",
       "      <th>Meta_score</th>\n",
       "      <th>Director</th>\n",
       "      <th>Star1</th>\n",
       "      <th>Star2</th>\n",
       "      <th>Star3</th>\n",
       "      <th>Star4</th>\n",
       "      <th>No_of_Votes</th>\n",
       "      <th>Gross</th>\n",
       "    </tr>\n",
       "  </thead>\n",
       "  <tbody>\n",
       "    <tr>\n",
       "      <th>0</th>\n",
       "      <td>https://m.media-amazon.com/images/M/MV5BMDFkYT...</td>\n",
       "      <td>The Shawshank Redemption</td>\n",
       "      <td>1994</td>\n",
       "      <td>A</td>\n",
       "      <td>142 min</td>\n",
       "      <td>Drama</td>\n",
       "      <td>9.3</td>\n",
       "      <td>Two imprisoned men bond over a number of years...</td>\n",
       "      <td>80.0</td>\n",
       "      <td>Frank Darabont</td>\n",
       "      <td>Tim Robbins</td>\n",
       "      <td>Morgan Freeman</td>\n",
       "      <td>Bob Gunton</td>\n",
       "      <td>William Sadler</td>\n",
       "      <td>2343110</td>\n",
       "      <td>28,341,469</td>\n",
       "    </tr>\n",
       "    <tr>\n",
       "      <th>1</th>\n",
       "      <td>https://m.media-amazon.com/images/M/MV5BM2MyNj...</td>\n",
       "      <td>The Godfather</td>\n",
       "      <td>1972</td>\n",
       "      <td>A</td>\n",
       "      <td>175 min</td>\n",
       "      <td>Crime, Drama</td>\n",
       "      <td>9.2</td>\n",
       "      <td>An organized crime dynasty's aging patriarch t...</td>\n",
       "      <td>100.0</td>\n",
       "      <td>Francis Ford Coppola</td>\n",
       "      <td>Marlon Brando</td>\n",
       "      <td>Al Pacino</td>\n",
       "      <td>James Caan</td>\n",
       "      <td>Diane Keaton</td>\n",
       "      <td>1620367</td>\n",
       "      <td>134,966,411</td>\n",
       "    </tr>\n",
       "    <tr>\n",
       "      <th>2</th>\n",
       "      <td>https://m.media-amazon.com/images/M/MV5BMTMxNT...</td>\n",
       "      <td>The Dark Knight</td>\n",
       "      <td>2008</td>\n",
       "      <td>UA</td>\n",
       "      <td>152 min</td>\n",
       "      <td>Action, Crime, Drama</td>\n",
       "      <td>9.0</td>\n",
       "      <td>When the menace known as the Joker wreaks havo...</td>\n",
       "      <td>84.0</td>\n",
       "      <td>Christopher Nolan</td>\n",
       "      <td>Christian Bale</td>\n",
       "      <td>Heath Ledger</td>\n",
       "      <td>Aaron Eckhart</td>\n",
       "      <td>Michael Caine</td>\n",
       "      <td>2303232</td>\n",
       "      <td>534,858,444</td>\n",
       "    </tr>\n",
       "    <tr>\n",
       "      <th>3</th>\n",
       "      <td>https://m.media-amazon.com/images/M/MV5BMWMwMG...</td>\n",
       "      <td>The Godfather: Part II</td>\n",
       "      <td>1974</td>\n",
       "      <td>A</td>\n",
       "      <td>202 min</td>\n",
       "      <td>Crime, Drama</td>\n",
       "      <td>9.0</td>\n",
       "      <td>The early life and career of Vito Corleone in ...</td>\n",
       "      <td>90.0</td>\n",
       "      <td>Francis Ford Coppola</td>\n",
       "      <td>Al Pacino</td>\n",
       "      <td>Robert De Niro</td>\n",
       "      <td>Robert Duvall</td>\n",
       "      <td>Diane Keaton</td>\n",
       "      <td>1129952</td>\n",
       "      <td>57,300,000</td>\n",
       "    </tr>\n",
       "    <tr>\n",
       "      <th>4</th>\n",
       "      <td>https://m.media-amazon.com/images/M/MV5BMWU4N2...</td>\n",
       "      <td>12 Angry Men</td>\n",
       "      <td>1957</td>\n",
       "      <td>U</td>\n",
       "      <td>96 min</td>\n",
       "      <td>Crime, Drama</td>\n",
       "      <td>9.0</td>\n",
       "      <td>A jury holdout attempts to prevent a miscarria...</td>\n",
       "      <td>96.0</td>\n",
       "      <td>Sidney Lumet</td>\n",
       "      <td>Henry Fonda</td>\n",
       "      <td>Lee J. Cobb</td>\n",
       "      <td>Martin Balsam</td>\n",
       "      <td>John Fiedler</td>\n",
       "      <td>689845</td>\n",
       "      <td>4,360,000</td>\n",
       "    </tr>\n",
       "  </tbody>\n",
       "</table>\n",
       "</div>"
      ],
      "text/plain": [
       "                                         Poster_Link  \\\n",
       "0  https://m.media-amazon.com/images/M/MV5BMDFkYT...   \n",
       "1  https://m.media-amazon.com/images/M/MV5BM2MyNj...   \n",
       "2  https://m.media-amazon.com/images/M/MV5BMTMxNT...   \n",
       "3  https://m.media-amazon.com/images/M/MV5BMWMwMG...   \n",
       "4  https://m.media-amazon.com/images/M/MV5BMWU4N2...   \n",
       "\n",
       "               Series_Title Released_Year Certificate  Runtime  \\\n",
       "0  The Shawshank Redemption          1994           A  142 min   \n",
       "1             The Godfather          1972           A  175 min   \n",
       "2           The Dark Knight          2008          UA  152 min   \n",
       "3    The Godfather: Part II          1974           A  202 min   \n",
       "4              12 Angry Men          1957           U   96 min   \n",
       "\n",
       "                  Genre  IMDB_Rating  \\\n",
       "0                 Drama          9.3   \n",
       "1          Crime, Drama          9.2   \n",
       "2  Action, Crime, Drama          9.0   \n",
       "3          Crime, Drama          9.0   \n",
       "4          Crime, Drama          9.0   \n",
       "\n",
       "                                            Overview  Meta_score  \\\n",
       "0  Two imprisoned men bond over a number of years...        80.0   \n",
       "1  An organized crime dynasty's aging patriarch t...       100.0   \n",
       "2  When the menace known as the Joker wreaks havo...        84.0   \n",
       "3  The early life and career of Vito Corleone in ...        90.0   \n",
       "4  A jury holdout attempts to prevent a miscarria...        96.0   \n",
       "\n",
       "               Director           Star1           Star2          Star3  \\\n",
       "0        Frank Darabont     Tim Robbins  Morgan Freeman     Bob Gunton   \n",
       "1  Francis Ford Coppola   Marlon Brando       Al Pacino     James Caan   \n",
       "2     Christopher Nolan  Christian Bale    Heath Ledger  Aaron Eckhart   \n",
       "3  Francis Ford Coppola       Al Pacino  Robert De Niro  Robert Duvall   \n",
       "4          Sidney Lumet     Henry Fonda     Lee J. Cobb  Martin Balsam   \n",
       "\n",
       "            Star4  No_of_Votes        Gross  \n",
       "0  William Sadler      2343110   28,341,469  \n",
       "1    Diane Keaton      1620367  134,966,411  \n",
       "2   Michael Caine      2303232  534,858,444  \n",
       "3    Diane Keaton      1129952   57,300,000  \n",
       "4    John Fiedler       689845    4,360,000  "
      ]
     },
     "execution_count": 3,
     "metadata": {},
     "output_type": "execute_result"
    }
   ],
   "source": [
    "df.head()"
   ]
  },
  {
   "cell_type": "code",
   "execution_count": 4,
   "id": "0abfc2f8",
   "metadata": {
    "ExecuteTime": {
     "end_time": "2023-04-07T11:48:51.315983Z",
     "start_time": "2023-04-07T11:48:51.305020Z"
    }
   },
   "outputs": [
    {
     "data": {
      "text/plain": [
       "Index(['Poster_Link', 'Series_Title', 'Released_Year', 'Certificate',\n",
       "       'Runtime', 'Genre', 'IMDB_Rating', 'Overview', 'Meta_score', 'Director',\n",
       "       'Star1', 'Star2', 'Star3', 'Star4', 'No_of_Votes', 'Gross'],\n",
       "      dtype='object')"
      ]
     },
     "execution_count": 4,
     "metadata": {},
     "output_type": "execute_result"
    }
   ],
   "source": [
    "# columns of dataset\n",
    "df.columns"
   ]
  },
  {
   "cell_type": "code",
   "execution_count": 5,
   "id": "0b264f9c",
   "metadata": {
    "ExecuteTime": {
     "end_time": "2023-04-07T11:48:51.346895Z",
     "start_time": "2023-04-07T11:48:51.317979Z"
    }
   },
   "outputs": [
    {
     "name": "stdout",
     "output_type": "stream",
     "text": [
      "<class 'pandas.core.frame.DataFrame'>\n",
      "RangeIndex: 1000 entries, 0 to 999\n",
      "Data columns (total 16 columns):\n",
      " #   Column         Non-Null Count  Dtype  \n",
      "---  ------         --------------  -----  \n",
      " 0   Poster_Link    1000 non-null   object \n",
      " 1   Series_Title   1000 non-null   object \n",
      " 2   Released_Year  1000 non-null   object \n",
      " 3   Certificate    899 non-null    object \n",
      " 4   Runtime        1000 non-null   object \n",
      " 5   Genre          1000 non-null   object \n",
      " 6   IMDB_Rating    1000 non-null   float64\n",
      " 7   Overview       1000 non-null   object \n",
      " 8   Meta_score     843 non-null    float64\n",
      " 9   Director       1000 non-null   object \n",
      " 10  Star1          1000 non-null   object \n",
      " 11  Star2          1000 non-null   object \n",
      " 12  Star3          1000 non-null   object \n",
      " 13  Star4          1000 non-null   object \n",
      " 14  No_of_Votes    1000 non-null   int64  \n",
      " 15  Gross          831 non-null    object \n",
      "dtypes: float64(2), int64(1), object(13)\n",
      "memory usage: 125.1+ KB\n"
     ]
    }
   ],
   "source": [
    "# information about dataset\n",
    "df.info()"
   ]
  },
  {
   "cell_type": "code",
   "execution_count": 6,
   "id": "e647f6e4",
   "metadata": {
    "ExecuteTime": {
     "end_time": "2023-04-07T11:48:51.378812Z",
     "start_time": "2023-04-07T11:48:51.351884Z"
    }
   },
   "outputs": [
    {
     "data": {
      "text/plain": [
       "Gross            169\n",
       "Meta_score       157\n",
       "Certificate      101\n",
       "Poster_Link        0\n",
       "Series_Title       0\n",
       "Released_Year      0\n",
       "Runtime            0\n",
       "Genre              0\n",
       "IMDB_Rating        0\n",
       "Overview           0\n",
       "Director           0\n",
       "Star1              0\n",
       "Star2              0\n",
       "Star3              0\n",
       "Star4              0\n",
       "No_of_Votes        0\n",
       "dtype: int64"
      ]
     },
     "execution_count": 6,
     "metadata": {},
     "output_type": "execute_result"
    }
   ],
   "source": [
    "# calculate the missing values and arrange them in ascending order\n",
    "df.isnull().sum().sort_values(ascending=False)"
   ]
  },
  {
   "cell_type": "markdown",
   "id": "4be5355a",
   "metadata": {},
   "source": [
    "#  Feature Selection\n"
   ]
  },
  {
   "cell_type": "markdown",
   "id": "6aba370b",
   "metadata": {},
   "source": [
    "**Dropping `\"Poster_Link\"` feature as it has no role.** "
   ]
  },
  {
   "cell_type": "code",
   "execution_count": 7,
   "id": "72896e97",
   "metadata": {
    "ExecuteTime": {
     "end_time": "2023-04-07T11:48:51.394768Z",
     "start_time": "2023-04-07T11:48:51.381804Z"
    }
   },
   "outputs": [],
   "source": [
    "df.drop('Poster_Link', axis=1, inplace= True)"
   ]
  },
  {
   "cell_type": "code",
   "execution_count": 8,
   "id": "9af0c565",
   "metadata": {
    "ExecuteTime": {
     "end_time": "2023-04-07T11:48:51.409729Z",
     "start_time": "2023-04-07T11:48:51.397760Z"
    }
   },
   "outputs": [
    {
     "data": {
      "text/plain": [
       "Index(['Series_Title', 'Released_Year', 'Certificate', 'Runtime', 'Genre',\n",
       "       'IMDB_Rating', 'Overview', 'Meta_score', 'Director', 'Star1', 'Star2',\n",
       "       'Star3', 'Star4', 'No_of_Votes', 'Gross'],\n",
       "      dtype='object')"
      ]
     },
     "execution_count": 8,
     "metadata": {},
     "output_type": "execute_result"
    }
   ],
   "source": [
    "df.columns"
   ]
  },
  {
   "cell_type": "markdown",
   "id": "d22f4d40",
   "metadata": {},
   "source": [
    "**Dropping `\"Certificate\"` feature because it contains the metadata of movie which has no role in our data analysis task.**"
   ]
  },
  {
   "cell_type": "code",
   "execution_count": 9,
   "id": "0a20d876",
   "metadata": {
    "ExecuteTime": {
     "end_time": "2023-04-07T11:48:51.425388Z",
     "start_time": "2023-04-07T11:48:51.412720Z"
    }
   },
   "outputs": [],
   "source": [
    "df.drop('Certificate', axis=1, inplace=True)"
   ]
  },
  {
   "cell_type": "code",
   "execution_count": 10,
   "id": "e1f604e6",
   "metadata": {
    "ExecuteTime": {
     "end_time": "2023-04-07T11:48:51.441053Z",
     "start_time": "2023-04-07T11:48:51.428381Z"
    }
   },
   "outputs": [
    {
     "data": {
      "text/plain": [
       "Index(['Series_Title', 'Released_Year', 'Runtime', 'Genre', 'IMDB_Rating',\n",
       "       'Overview', 'Meta_score', 'Director', 'Star1', 'Star2', 'Star3',\n",
       "       'Star4', 'No_of_Votes', 'Gross'],\n",
       "      dtype='object')"
      ]
     },
     "execution_count": 10,
     "metadata": {},
     "output_type": "execute_result"
    }
   ],
   "source": [
    "df.columns"
   ]
  },
  {
   "cell_type": "markdown",
   "id": "852541b8",
   "metadata": {},
   "source": [
    "**Dropping `\"Runtime\"` feature because it has duration of a movie and this does not affects our analysis.**"
   ]
  },
  {
   "cell_type": "code",
   "execution_count": 11,
   "id": "f7ad1d59",
   "metadata": {
    "ExecuteTime": {
     "end_time": "2023-04-07T11:48:51.457008Z",
     "start_time": "2023-04-07T11:48:51.445033Z"
    }
   },
   "outputs": [],
   "source": [
    "df.drop('Runtime', axis=1, inplace=True)"
   ]
  },
  {
   "cell_type": "code",
   "execution_count": 12,
   "id": "b3ede5b7",
   "metadata": {
    "ExecuteTime": {
     "end_time": "2023-04-07T11:48:51.472960Z",
     "start_time": "2023-04-07T11:48:51.459994Z"
    }
   },
   "outputs": [
    {
     "data": {
      "text/plain": [
       "Index(['Series_Title', 'Released_Year', 'Genre', 'IMDB_Rating', 'Overview',\n",
       "       'Meta_score', 'Director', 'Star1', 'Star2', 'Star3', 'Star4',\n",
       "       'No_of_Votes', 'Gross'],\n",
       "      dtype='object')"
      ]
     },
     "execution_count": 12,
     "metadata": {},
     "output_type": "execute_result"
    }
   ],
   "source": [
    "df.columns"
   ]
  },
  {
   "cell_type": "markdown",
   "id": "2e6b9da6",
   "metadata": {},
   "source": [
    "**Dropping `'Overview'` feature because overview of a movie has no relation with other features present in the dataset.**"
   ]
  },
  {
   "cell_type": "code",
   "execution_count": 13,
   "id": "08e48ed0",
   "metadata": {
    "ExecuteTime": {
     "end_time": "2023-04-07T11:48:51.488915Z",
     "start_time": "2023-04-07T11:48:51.476949Z"
    }
   },
   "outputs": [],
   "source": [
    "df.drop('Overview', axis=1, inplace=True)"
   ]
  },
  {
   "cell_type": "code",
   "execution_count": 14,
   "id": "489a47e1",
   "metadata": {
    "ExecuteTime": {
     "end_time": "2023-04-07T11:48:51.505875Z",
     "start_time": "2023-04-07T11:48:51.493902Z"
    }
   },
   "outputs": [
    {
     "data": {
      "text/plain": [
       "Index(['Series_Title', 'Released_Year', 'Genre', 'IMDB_Rating', 'Meta_score',\n",
       "       'Director', 'Star1', 'Star2', 'Star3', 'Star4', 'No_of_Votes', 'Gross'],\n",
       "      dtype='object')"
      ]
     },
     "execution_count": 14,
     "metadata": {},
     "output_type": "execute_result"
    }
   ],
   "source": [
    "df.columns"
   ]
  },
  {
   "cell_type": "markdown",
   "id": "0a3466fb",
   "metadata": {},
   "source": [
    "**Dropping `\"No_of_Votes\"` feature because \"No_of_Votes\" feature is subset of \"Rating\" feature, so there is  no sense to keep both features together.**"
   ]
  },
  {
   "cell_type": "code",
   "execution_count": 15,
   "id": "b4436b6f",
   "metadata": {
    "ExecuteTime": {
     "end_time": "2023-04-07T11:48:51.695391Z",
     "start_time": "2023-04-07T11:48:51.683424Z"
    }
   },
   "outputs": [
    {
     "data": {
      "text/plain": [
       "Index(['Series_Title', 'Released_Year', 'Genre', 'IMDB_Rating', 'Meta_score',\n",
       "       'Director', 'Star1', 'Star2', 'Star3', 'Star4', 'No_of_Votes', 'Gross'],\n",
       "      dtype='object')"
      ]
     },
     "execution_count": 15,
     "metadata": {},
     "output_type": "execute_result"
    }
   ],
   "source": [
    "df.columns"
   ]
  },
  {
   "cell_type": "markdown",
   "id": "9790fd44",
   "metadata": {},
   "source": [
    "**Dropping `Star3` and `Star4` feature because they are not impacting  data set so much.**"
   ]
  },
  {
   "cell_type": "code",
   "execution_count": 16,
   "id": "729bf710",
   "metadata": {
    "ExecuteTime": {
     "end_time": "2023-04-07T11:48:51.977474Z",
     "start_time": "2023-04-07T11:48:51.957812Z"
    }
   },
   "outputs": [],
   "source": [
    "df.drop([\"Star3\", \"Star4\"], axis=1, inplace=True)"
   ]
  },
  {
   "cell_type": "code",
   "execution_count": 17,
   "id": "2efbd433",
   "metadata": {
    "ExecuteTime": {
     "end_time": "2023-04-07T11:48:52.040926Z",
     "start_time": "2023-04-07T11:48:52.032947Z"
    }
   },
   "outputs": [
    {
     "data": {
      "text/plain": [
       "Index(['Series_Title', 'Released_Year', 'Genre', 'IMDB_Rating', 'Meta_score',\n",
       "       'Director', 'Star1', 'Star2', 'No_of_Votes', 'Gross'],\n",
       "      dtype='object')"
      ]
     },
     "execution_count": 17,
     "metadata": {},
     "output_type": "execute_result"
    }
   ],
   "source": [
    "df.columns"
   ]
  },
  {
   "cell_type": "markdown",
   "id": "b1cab5bd",
   "metadata": {},
   "source": [
    "# Data Cleaning"
   ]
  },
  {
   "cell_type": "code",
   "execution_count": 18,
   "id": "0a59546e",
   "metadata": {
    "ExecuteTime": {
     "end_time": "2023-04-07T11:48:52.261956Z",
     "start_time": "2023-04-07T11:48:52.231646Z"
    }
   },
   "outputs": [
    {
     "name": "stdout",
     "output_type": "stream",
     "text": [
      "<class 'pandas.core.frame.DataFrame'>\n",
      "RangeIndex: 1000 entries, 0 to 999\n",
      "Data columns (total 10 columns):\n",
      " #   Column         Non-Null Count  Dtype  \n",
      "---  ------         --------------  -----  \n",
      " 0   Series_Title   1000 non-null   object \n",
      " 1   Released_Year  1000 non-null   object \n",
      " 2   Genre          1000 non-null   object \n",
      " 3   IMDB_Rating    1000 non-null   float64\n",
      " 4   Meta_score     843 non-null    float64\n",
      " 5   Director       1000 non-null   object \n",
      " 6   Star1          1000 non-null   object \n",
      " 7   Star2          1000 non-null   object \n",
      " 8   No_of_Votes    1000 non-null   int64  \n",
      " 9   Gross          831 non-null    object \n",
      "dtypes: float64(2), int64(1), object(7)\n",
      "memory usage: 78.2+ KB\n"
     ]
    }
   ],
   "source": [
    "df.info()"
   ]
  },
  {
   "cell_type": "markdown",
   "id": "f06373e7",
   "metadata": {},
   "source": [
    "### Cleaning of  `\"Released_Year\"` column"
   ]
  },
  {
   "cell_type": "code",
   "execution_count": 19,
   "id": "05bcbb37",
   "metadata": {
    "ExecuteTime": {
     "end_time": "2023-04-07T11:48:52.434867Z",
     "start_time": "2023-04-07T11:48:52.414920Z"
    }
   },
   "outputs": [
    {
     "data": {
      "text/plain": [
       "dtype('O')"
      ]
     },
     "execution_count": 19,
     "metadata": {},
     "output_type": "execute_result"
    }
   ],
   "source": [
    "df['Released_Year'].dtypes"
   ]
  },
  {
   "cell_type": "markdown",
   "id": "1a2ad009",
   "metadata": {},
   "source": [
    "Since year should be of int type but it is of object type in our data so we will transform data type from object to int"
   ]
  },
  {
   "cell_type": "code",
   "execution_count": 20,
   "id": "77ed86b1",
   "metadata": {
    "ExecuteTime": {
     "end_time": "2023-04-07T11:48:52.608725Z",
     "start_time": "2023-04-07T11:48:52.589640Z"
    }
   },
   "outputs": [
    {
     "data": {
      "text/plain": [
       "array(['1994', '1972', '2008', '1974', '1957', '2003', '1993', '2010',\n",
       "       '1999', '2001', '1966', '2002', '1990', '1980', '1975', '2020',\n",
       "       '2019', '2014', '1998', '1997', '1995', '1991', '1977', '1962',\n",
       "       '1954', '1946', '2011', '2006', '2000', '1988', '1985', '1968',\n",
       "       '1960', '1942', '1936', '1931', '2018', '2017', '2016', '2012',\n",
       "       '2009', '2007', '1984', '1981', '1979', '1971', '1963', '1964',\n",
       "       '1950', '1940', '2013', '2005', '2004', '1992', '1987', '1986',\n",
       "       '1983', '1976', '1973', '1965', '1959', '1958', '1952', '1948',\n",
       "       '1944', '1941', '1927', '1921', '2015', '1996', '1989', '1978',\n",
       "       '1961', '1955', '1953', '1925', '1924', '1982', '1967', '1951',\n",
       "       '1949', '1939', '1937', '1934', '1928', '1926', '1920', '1970',\n",
       "       '1969', '1956', '1947', '1945', '1930', '1938', '1935', '1933',\n",
       "       '1932', '1922', '1943', 'PG'], dtype=object)"
      ]
     },
     "execution_count": 20,
     "metadata": {},
     "output_type": "execute_result"
    }
   ],
   "source": [
    "df['Released_Year'].unique()"
   ]
  },
  {
   "cell_type": "code",
   "execution_count": 21,
   "id": "4d4abc1d",
   "metadata": {
    "ExecuteTime": {
     "end_time": "2023-04-07T11:48:52.702289Z",
     "start_time": "2023-04-07T11:48:52.663379Z"
    }
   },
   "outputs": [
    {
     "data": {
      "text/html": [
       "<div>\n",
       "<style scoped>\n",
       "    .dataframe tbody tr th:only-of-type {\n",
       "        vertical-align: middle;\n",
       "    }\n",
       "\n",
       "    .dataframe tbody tr th {\n",
       "        vertical-align: top;\n",
       "    }\n",
       "\n",
       "    .dataframe thead th {\n",
       "        text-align: right;\n",
       "    }\n",
       "</style>\n",
       "<table border=\"1\" class=\"dataframe\">\n",
       "  <thead>\n",
       "    <tr style=\"text-align: right;\">\n",
       "      <th></th>\n",
       "      <th>Series_Title</th>\n",
       "      <th>Released_Year</th>\n",
       "      <th>Genre</th>\n",
       "      <th>IMDB_Rating</th>\n",
       "      <th>Meta_score</th>\n",
       "      <th>Director</th>\n",
       "      <th>Star1</th>\n",
       "      <th>Star2</th>\n",
       "      <th>No_of_Votes</th>\n",
       "      <th>Gross</th>\n",
       "    </tr>\n",
       "  </thead>\n",
       "  <tbody>\n",
       "    <tr>\n",
       "      <th>0</th>\n",
       "      <td>The Shawshank Redemption</td>\n",
       "      <td>1994</td>\n",
       "      <td>Drama</td>\n",
       "      <td>9.3</td>\n",
       "      <td>80.0</td>\n",
       "      <td>Frank Darabont</td>\n",
       "      <td>Tim Robbins</td>\n",
       "      <td>Morgan Freeman</td>\n",
       "      <td>2343110</td>\n",
       "      <td>28,341,469</td>\n",
       "    </tr>\n",
       "    <tr>\n",
       "      <th>1</th>\n",
       "      <td>The Godfather</td>\n",
       "      <td>1972</td>\n",
       "      <td>Crime, Drama</td>\n",
       "      <td>9.2</td>\n",
       "      <td>100.0</td>\n",
       "      <td>Francis Ford Coppola</td>\n",
       "      <td>Marlon Brando</td>\n",
       "      <td>Al Pacino</td>\n",
       "      <td>1620367</td>\n",
       "      <td>134,966,411</td>\n",
       "    </tr>\n",
       "    <tr>\n",
       "      <th>2</th>\n",
       "      <td>The Dark Knight</td>\n",
       "      <td>2008</td>\n",
       "      <td>Action, Crime, Drama</td>\n",
       "      <td>9.0</td>\n",
       "      <td>84.0</td>\n",
       "      <td>Christopher Nolan</td>\n",
       "      <td>Christian Bale</td>\n",
       "      <td>Heath Ledger</td>\n",
       "      <td>2303232</td>\n",
       "      <td>534,858,444</td>\n",
       "    </tr>\n",
       "    <tr>\n",
       "      <th>3</th>\n",
       "      <td>The Godfather: Part II</td>\n",
       "      <td>1974</td>\n",
       "      <td>Crime, Drama</td>\n",
       "      <td>9.0</td>\n",
       "      <td>90.0</td>\n",
       "      <td>Francis Ford Coppola</td>\n",
       "      <td>Al Pacino</td>\n",
       "      <td>Robert De Niro</td>\n",
       "      <td>1129952</td>\n",
       "      <td>57,300,000</td>\n",
       "    </tr>\n",
       "    <tr>\n",
       "      <th>4</th>\n",
       "      <td>12 Angry Men</td>\n",
       "      <td>1957</td>\n",
       "      <td>Crime, Drama</td>\n",
       "      <td>9.0</td>\n",
       "      <td>96.0</td>\n",
       "      <td>Sidney Lumet</td>\n",
       "      <td>Henry Fonda</td>\n",
       "      <td>Lee J. Cobb</td>\n",
       "      <td>689845</td>\n",
       "      <td>4,360,000</td>\n",
       "    </tr>\n",
       "    <tr>\n",
       "      <th>...</th>\n",
       "      <td>...</td>\n",
       "      <td>...</td>\n",
       "      <td>...</td>\n",
       "      <td>...</td>\n",
       "      <td>...</td>\n",
       "      <td>...</td>\n",
       "      <td>...</td>\n",
       "      <td>...</td>\n",
       "      <td>...</td>\n",
       "      <td>...</td>\n",
       "    </tr>\n",
       "    <tr>\n",
       "      <th>995</th>\n",
       "      <td>Breakfast at Tiffany's</td>\n",
       "      <td>1961</td>\n",
       "      <td>Comedy, Drama, Romance</td>\n",
       "      <td>7.6</td>\n",
       "      <td>76.0</td>\n",
       "      <td>Blake Edwards</td>\n",
       "      <td>Audrey Hepburn</td>\n",
       "      <td>George Peppard</td>\n",
       "      <td>166544</td>\n",
       "      <td>NaN</td>\n",
       "    </tr>\n",
       "    <tr>\n",
       "      <th>996</th>\n",
       "      <td>Giant</td>\n",
       "      <td>1956</td>\n",
       "      <td>Drama, Western</td>\n",
       "      <td>7.6</td>\n",
       "      <td>84.0</td>\n",
       "      <td>George Stevens</td>\n",
       "      <td>Elizabeth Taylor</td>\n",
       "      <td>Rock Hudson</td>\n",
       "      <td>34075</td>\n",
       "      <td>NaN</td>\n",
       "    </tr>\n",
       "    <tr>\n",
       "      <th>997</th>\n",
       "      <td>From Here to Eternity</td>\n",
       "      <td>1953</td>\n",
       "      <td>Drama, Romance, War</td>\n",
       "      <td>7.6</td>\n",
       "      <td>85.0</td>\n",
       "      <td>Fred Zinnemann</td>\n",
       "      <td>Burt Lancaster</td>\n",
       "      <td>Montgomery Clift</td>\n",
       "      <td>43374</td>\n",
       "      <td>30,500,000</td>\n",
       "    </tr>\n",
       "    <tr>\n",
       "      <th>998</th>\n",
       "      <td>Lifeboat</td>\n",
       "      <td>1944</td>\n",
       "      <td>Drama, War</td>\n",
       "      <td>7.6</td>\n",
       "      <td>78.0</td>\n",
       "      <td>Alfred Hitchcock</td>\n",
       "      <td>Tallulah Bankhead</td>\n",
       "      <td>John Hodiak</td>\n",
       "      <td>26471</td>\n",
       "      <td>NaN</td>\n",
       "    </tr>\n",
       "    <tr>\n",
       "      <th>999</th>\n",
       "      <td>The 39 Steps</td>\n",
       "      <td>1935</td>\n",
       "      <td>Crime, Mystery, Thriller</td>\n",
       "      <td>7.6</td>\n",
       "      <td>93.0</td>\n",
       "      <td>Alfred Hitchcock</td>\n",
       "      <td>Robert Donat</td>\n",
       "      <td>Madeleine Carroll</td>\n",
       "      <td>51853</td>\n",
       "      <td>NaN</td>\n",
       "    </tr>\n",
       "  </tbody>\n",
       "</table>\n",
       "<p>999 rows × 10 columns</p>\n",
       "</div>"
      ],
      "text/plain": [
       "                 Series_Title Released_Year                     Genre  \\\n",
       "0    The Shawshank Redemption          1994                     Drama   \n",
       "1               The Godfather          1972              Crime, Drama   \n",
       "2             The Dark Knight          2008      Action, Crime, Drama   \n",
       "3      The Godfather: Part II          1974              Crime, Drama   \n",
       "4                12 Angry Men          1957              Crime, Drama   \n",
       "..                        ...           ...                       ...   \n",
       "995    Breakfast at Tiffany's          1961    Comedy, Drama, Romance   \n",
       "996                     Giant          1956            Drama, Western   \n",
       "997     From Here to Eternity          1953       Drama, Romance, War   \n",
       "998                  Lifeboat          1944                Drama, War   \n",
       "999              The 39 Steps          1935  Crime, Mystery, Thriller   \n",
       "\n",
       "     IMDB_Rating  Meta_score              Director              Star1  \\\n",
       "0            9.3        80.0        Frank Darabont        Tim Robbins   \n",
       "1            9.2       100.0  Francis Ford Coppola      Marlon Brando   \n",
       "2            9.0        84.0     Christopher Nolan     Christian Bale   \n",
       "3            9.0        90.0  Francis Ford Coppola          Al Pacino   \n",
       "4            9.0        96.0          Sidney Lumet        Henry Fonda   \n",
       "..           ...         ...                   ...                ...   \n",
       "995          7.6        76.0         Blake Edwards     Audrey Hepburn   \n",
       "996          7.6        84.0        George Stevens   Elizabeth Taylor   \n",
       "997          7.6        85.0        Fred Zinnemann     Burt Lancaster   \n",
       "998          7.6        78.0      Alfred Hitchcock  Tallulah Bankhead   \n",
       "999          7.6        93.0      Alfred Hitchcock       Robert Donat   \n",
       "\n",
       "                 Star2  No_of_Votes        Gross  \n",
       "0       Morgan Freeman      2343110   28,341,469  \n",
       "1            Al Pacino      1620367  134,966,411  \n",
       "2         Heath Ledger      2303232  534,858,444  \n",
       "3       Robert De Niro      1129952   57,300,000  \n",
       "4          Lee J. Cobb       689845    4,360,000  \n",
       "..                 ...          ...          ...  \n",
       "995     George Peppard       166544          NaN  \n",
       "996        Rock Hudson        34075          NaN  \n",
       "997   Montgomery Clift        43374   30,500,000  \n",
       "998        John Hodiak        26471          NaN  \n",
       "999  Madeleine Carroll        51853          NaN  \n",
       "\n",
       "[999 rows x 10 columns]"
      ]
     },
     "execution_count": 21,
     "metadata": {},
     "output_type": "execute_result"
    }
   ],
   "source": [
    "df = df[df['Released_Year'] != 'PG']\n",
    "df"
   ]
  },
  {
   "cell_type": "code",
   "execution_count": 22,
   "id": "322d6f77",
   "metadata": {
    "ExecuteTime": {
     "end_time": "2023-04-07T11:48:52.764939Z",
     "start_time": "2023-04-07T11:48:52.746967Z"
    }
   },
   "outputs": [
    {
     "data": {
      "text/plain": [
       "array(['1994', '1972', '2008', '1974', '1957', '2003', '1993', '2010',\n",
       "       '1999', '2001', '1966', '2002', '1990', '1980', '1975', '2020',\n",
       "       '2019', '2014', '1998', '1997', '1995', '1991', '1977', '1962',\n",
       "       '1954', '1946', '2011', '2006', '2000', '1988', '1985', '1968',\n",
       "       '1960', '1942', '1936', '1931', '2018', '2017', '2016', '2012',\n",
       "       '2009', '2007', '1984', '1981', '1979', '1971', '1963', '1964',\n",
       "       '1950', '1940', '2013', '2005', '2004', '1992', '1987', '1986',\n",
       "       '1983', '1976', '1973', '1965', '1959', '1958', '1952', '1948',\n",
       "       '1944', '1941', '1927', '1921', '2015', '1996', '1989', '1978',\n",
       "       '1961', '1955', '1953', '1925', '1924', '1982', '1967', '1951',\n",
       "       '1949', '1939', '1937', '1934', '1928', '1926', '1920', '1970',\n",
       "       '1969', '1956', '1947', '1945', '1930', '1938', '1935', '1933',\n",
       "       '1932', '1922', '1943'], dtype=object)"
      ]
     },
     "execution_count": 22,
     "metadata": {},
     "output_type": "execute_result"
    }
   ],
   "source": [
    "df['Released_Year'].unique()"
   ]
  },
  {
   "cell_type": "code",
   "execution_count": 23,
   "id": "c18c4c81",
   "metadata": {
    "ExecuteTime": {
     "end_time": "2023-04-07T11:48:52.842730Z",
     "start_time": "2023-04-07T11:48:52.818799Z"
    }
   },
   "outputs": [
    {
     "data": {
      "text/plain": [
       "0      1994\n",
       "1      1972\n",
       "2      2008\n",
       "3      1974\n",
       "4      1957\n",
       "       ... \n",
       "995    1961\n",
       "996    1956\n",
       "997    1953\n",
       "998    1944\n",
       "999    1935\n",
       "Name: Released_Year, Length: 999, dtype: int32"
      ]
     },
     "execution_count": 23,
     "metadata": {},
     "output_type": "execute_result"
    }
   ],
   "source": [
    "df['Released_Year'].astype(int)"
   ]
  },
  {
   "cell_type": "markdown",
   "id": "4517653e",
   "metadata": {},
   "source": [
    "# Univariate Analysis\n",
    "\n",
    "### Analyse on `\"Gross\"` feature"
   ]
  },
  {
   "cell_type": "code",
   "execution_count": 24,
   "id": "31fefba1",
   "metadata": {
    "ExecuteTime": {
     "end_time": "2023-04-07T11:48:53.032216Z",
     "start_time": "2023-04-07T11:48:53.019241Z"
    }
   },
   "outputs": [
    {
     "data": {
      "text/plain": [
       "0     28,341,469\n",
       "1    134,966,411\n",
       "2    534,858,444\n",
       "3     57,300,000\n",
       "4      4,360,000\n",
       "5    377,845,905\n",
       "6    107,928,762\n",
       "7     96,898,818\n",
       "8    292,576,195\n",
       "9     37,030,102\n",
       "Name: Gross, dtype: object"
      ]
     },
     "execution_count": 24,
     "metadata": {},
     "output_type": "execute_result"
    }
   ],
   "source": [
    "df['Gross'].head(10)"
   ]
  },
  {
   "cell_type": "markdown",
   "id": "4c11a202",
   "metadata": {},
   "source": [
    "**Since this feature shows the Gross income of the movie, and income should be a numeric value so we will convert this to numeric.**"
   ]
  },
  {
   "cell_type": "code",
   "execution_count": 25,
   "id": "9e0830cd",
   "metadata": {
    "ExecuteTime": {
     "end_time": "2023-04-07T11:48:53.221898Z",
     "start_time": "2023-04-07T11:48:53.209054Z"
    }
   },
   "outputs": [],
   "source": [
    "df['Gross'] = df['Gross'].str.replace(',', '')"
   ]
  },
  {
   "cell_type": "code",
   "execution_count": 26,
   "id": "b6648f44",
   "metadata": {
    "ExecuteTime": {
     "end_time": "2023-04-07T11:48:53.301686Z",
     "start_time": "2023-04-07T11:48:53.281736Z"
    }
   },
   "outputs": [
    {
     "data": {
      "text/plain": [
       "0       28341469\n",
       "1      134966411\n",
       "2      534858444\n",
       "3       57300000\n",
       "4        4360000\n",
       "         ...    \n",
       "995          NaN\n",
       "996          NaN\n",
       "997     30500000\n",
       "998          NaN\n",
       "999          NaN\n",
       "Name: Gross, Length: 999, dtype: object"
      ]
     },
     "execution_count": 26,
     "metadata": {},
     "output_type": "execute_result"
    }
   ],
   "source": [
    "df['Gross']"
   ]
  },
  {
   "cell_type": "code",
   "execution_count": 27,
   "id": "c0b651a6",
   "metadata": {
    "ExecuteTime": {
     "end_time": "2023-04-07T11:48:53.378777Z",
     "start_time": "2023-04-07T11:48:53.358304Z"
    }
   },
   "outputs": [],
   "source": [
    "# convert the column data type\n",
    "df['Gross'] = df['Gross'].astype(float)"
   ]
  },
  {
   "cell_type": "code",
   "execution_count": 28,
   "id": "e52945fa",
   "metadata": {
    "ExecuteTime": {
     "end_time": "2023-04-07T11:48:53.441049Z",
     "start_time": "2023-04-07T11:48:53.428801Z"
    }
   },
   "outputs": [
    {
     "data": {
      "text/plain": [
       "169"
      ]
     },
     "execution_count": 28,
     "metadata": {},
     "output_type": "execute_result"
    }
   ],
   "source": [
    "df['Gross'].isnull().sum()"
   ]
  },
  {
   "cell_type": "markdown",
   "id": "59608ebc",
   "metadata": {},
   "source": [
    "**There are 169 missing values in this column**"
   ]
  },
  {
   "cell_type": "code",
   "execution_count": 29,
   "id": "915f8698",
   "metadata": {
    "ExecuteTime": {
     "end_time": "2023-04-07T11:48:53.645728Z",
     "start_time": "2023-04-07T11:48:53.627745Z"
    }
   },
   "outputs": [
    {
     "data": {
      "text/plain": [
       "1305.0"
      ]
     },
     "execution_count": 29,
     "metadata": {},
     "output_type": "execute_result"
    }
   ],
   "source": [
    "df['Gross'].min()"
   ]
  },
  {
   "cell_type": "code",
   "execution_count": 30,
   "id": "5755bd16",
   "metadata": {
    "ExecuteTime": {
     "end_time": "2023-04-07T11:48:53.723536Z",
     "start_time": "2023-04-07T11:48:53.701598Z"
    }
   },
   "outputs": [
    {
     "data": {
      "text/plain": [
       "936662225.0"
      ]
     },
     "execution_count": 30,
     "metadata": {},
     "output_type": "execute_result"
    }
   ],
   "source": [
    "df['Gross'].max()"
   ]
  },
  {
   "cell_type": "code",
   "execution_count": 31,
   "id": "9efefbbe",
   "metadata": {
    "ExecuteTime": {
     "end_time": "2023-04-07T11:48:53.804049Z",
     "start_time": "2023-04-07T11:48:53.781090Z"
    }
   },
   "outputs": [
    {
     "data": {
      "text/plain": [
       "67907277.16024096"
      ]
     },
     "execution_count": 31,
     "metadata": {},
     "output_type": "execute_result"
    }
   ],
   "source": [
    "df['Gross'].mean()"
   ]
  },
  {
   "cell_type": "code",
   "execution_count": 32,
   "id": "5bd06036",
   "metadata": {
    "ExecuteTime": {
     "end_time": "2023-04-07T11:48:53.866876Z",
     "start_time": "2023-04-07T11:48:53.851916Z"
    }
   },
   "outputs": [
    {
     "data": {
      "text/plain": [
       "23457439.5"
      ]
     },
     "execution_count": 32,
     "metadata": {},
     "output_type": "execute_result"
    }
   ],
   "source": [
    "df['Gross'].median()"
   ]
  },
  {
   "cell_type": "markdown",
   "id": "e9ecd130",
   "metadata": {},
   "source": [
    "### Treating null values\n",
    "**Since there are 169 null values are present,and it is much of total values that is 999 so we will not drop these nullvalues but we will treat them. In order to treat null values we will try to fill these values. For filling these null values we have to check that if there are outliers present in this feature then we will fill these null values by `Median()` else `mean()` of this feature itelf.**"
   ]
  },
  {
   "cell_type": "code",
   "execution_count": 33,
   "id": "41ad5a77",
   "metadata": {
    "ExecuteTime": {
     "end_time": "2023-04-07T11:48:55.713739Z",
     "start_time": "2023-04-07T11:48:54.058030Z"
    }
   },
   "outputs": [
    {
     "data": {
      "text/plain": [
       "<AxesSubplot:>"
      ]
     },
     "execution_count": 33,
     "metadata": {},
     "output_type": "execute_result"
    },
    {
     "data": {
      "image/png": "[encoded data removed]",
      "text/plain": [
       "<Figure size 432x288 with 1 Axes>"
      ]
     },
     "metadata": {
      "needs_background": "light"
     },
     "output_type": "display_data"
    }
   ],
   "source": [
    "df['Gross'].plot(kind='box')"
   ]
  },
  {
   "cell_type": "code",
   "execution_count": 34,
   "id": "b5d3c56a",
   "metadata": {
    "ExecuteTime": {
     "end_time": "2023-04-07T11:48:55.728707Z",
     "start_time": "2023-04-07T11:48:55.716733Z"
    }
   },
   "outputs": [
    {
     "name": "stdout",
     "output_type": "stream",
     "text": [
      "First Quartile : 3245338.5\n",
      "Third Quartile : 80103240.75\n"
     ]
    }
   ],
   "source": [
    "q1= df['Gross'].quantile(0.25)\n",
    "q3= df['Gross'].quantile(0.75)\n",
    "print(\"First Quartile :\", q1)\n",
    "print(\"Third Quartile :\", q3)"
   ]
  },
  {
   "cell_type": "code",
   "execution_count": 35,
   "id": "3fdc671d",
   "metadata": {
    "ExecuteTime": {
     "end_time": "2023-04-07T11:48:55.744744Z",
     "start_time": "2023-04-07T11:48:55.731781Z"
    }
   },
   "outputs": [
    {
     "data": {
      "text/plain": [
       "76857902.25"
      ]
     },
     "execution_count": 35,
     "metadata": {},
     "output_type": "execute_result"
    }
   ],
   "source": [
    "iqr = q3-q1\n",
    "iqr"
   ]
  },
  {
   "cell_type": "code",
   "execution_count": 36,
   "id": "8ff04020",
   "metadata": {
    "ExecuteTime": {
     "end_time": "2023-04-07T11:48:55.760702Z",
     "start_time": "2023-04-07T11:48:55.747737Z"
    }
   },
   "outputs": [
    {
     "name": "stdout",
     "output_type": "stream",
     "text": [
      "Lower Bound : -112041514.875\n",
      "Upper Bound : 195390094.125\n"
     ]
    }
   ],
   "source": [
    "lower_bound = q1- 1.5*iqr \n",
    "upper_bound = q3+ 1.5*iqr\n",
    "\n",
    "print(\"Lower Bound :\", lower_bound)\n",
    "print(\"Upper Bound :\", upper_bound)"
   ]
  },
  {
   "cell_type": "code",
   "execution_count": 37,
   "id": "fde1aede",
   "metadata": {
    "ExecuteTime": {
     "end_time": "2023-04-07T11:48:55.776661Z",
     "start_time": "2023-04-07T11:48:55.763697Z"
    }
   },
   "outputs": [
    {
     "data": {
      "text/plain": [
       "169"
      ]
     },
     "execution_count": 37,
     "metadata": {},
     "output_type": "execute_result"
    }
   ],
   "source": [
    "df['Gross'].isnull().sum()"
   ]
  },
  {
   "cell_type": "code",
   "execution_count": 38,
   "id": "ec4f1d33",
   "metadata": {
    "ExecuteTime": {
     "end_time": "2023-04-07T11:48:55.792766Z",
     "start_time": "2023-04-07T11:48:55.779651Z"
    }
   },
   "outputs": [],
   "source": [
    "# Fill the missing values with median of the column\n",
    "df['Gross'] = df['Gross'].fillna(df['Gross'].median())"
   ]
  },
  {
   "cell_type": "code",
   "execution_count": 39,
   "id": "ca51ea8f",
   "metadata": {
    "ExecuteTime": {
     "end_time": "2023-04-07T11:48:55.808723Z",
     "start_time": "2023-04-07T11:48:55.794761Z"
    }
   },
   "outputs": [
    {
     "data": {
      "text/plain": [
       "0"
      ]
     },
     "execution_count": 39,
     "metadata": {},
     "output_type": "execute_result"
    }
   ],
   "source": [
    "df['Gross'].isnull().sum()"
   ]
  },
  {
   "cell_type": "markdown",
   "id": "2c856f24",
   "metadata": {},
   "source": [
    "**Now there is no missing value**"
   ]
  },
  {
   "cell_type": "code",
   "execution_count": 40,
   "id": "49b163a0",
   "metadata": {
    "ExecuteTime": {
     "end_time": "2023-04-07T11:48:55.823887Z",
     "start_time": "2023-04-07T11:48:55.810953Z"
    }
   },
   "outputs": [
    {
     "data": {
      "text/plain": [
       "60387735.05355355"
      ]
     },
     "execution_count": 40,
     "metadata": {},
     "output_type": "execute_result"
    }
   ],
   "source": [
    "df['Gross'].mean()"
   ]
  },
  {
   "cell_type": "code",
   "execution_count": 41,
   "id": "15f8ff1a",
   "metadata": {
    "ExecuteTime": {
     "end_time": "2023-04-07T11:48:55.839844Z",
     "start_time": "2023-04-07T11:48:55.825882Z"
    }
   },
   "outputs": [
    {
     "data": {
      "text/plain": [
       "23457439.5"
      ]
     },
     "execution_count": 41,
     "metadata": {},
     "output_type": "execute_result"
    }
   ],
   "source": [
    "df['Gross'].median()"
   ]
  },
  {
   "cell_type": "code",
   "execution_count": 42,
   "id": "c14e91fb",
   "metadata": {
    "ExecuteTime": {
     "end_time": "2023-04-07T11:48:55.997593Z",
     "start_time": "2023-04-07T11:48:55.844831Z"
    }
   },
   "outputs": [
    {
     "data": {
      "text/plain": [
       "<AxesSubplot:>"
      ]
     },
     "execution_count": 42,
     "metadata": {},
     "output_type": "execute_result"
    },
    {
     "data": {
      "image/png": "[encoded data removed]",
      "text/plain": [
       "<Figure size 432x288 with 1 Axes>"
      ]
     },
     "metadata": {
      "needs_background": "light"
     },
     "output_type": "display_data"
    }
   ],
   "source": [
    "df['Gross'].plot(kind='box')"
   ]
  },
  {
   "cell_type": "code",
   "execution_count": 43,
   "id": "96938f81",
   "metadata": {
    "ExecuteTime": {
     "end_time": "2023-04-07T11:48:56.013205Z",
     "start_time": "2023-04-07T11:48:56.001233Z"
    }
   },
   "outputs": [
    {
     "data": {
      "text/plain": [
       "0"
      ]
     },
     "execution_count": 43,
     "metadata": {},
     "output_type": "execute_result"
    }
   ],
   "source": [
    "outliers_lower= df[df['Gross'] < lower_bound]['Gross'].count()\n",
    "outliers_lower"
   ]
  },
  {
   "cell_type": "code",
   "execution_count": 44,
   "id": "a6d3e4df",
   "metadata": {
    "ExecuteTime": {
     "end_time": "2023-04-07T11:48:56.028911Z",
     "start_time": "2023-04-07T11:48:56.016194Z"
    }
   },
   "outputs": [
    {
     "data": {
      "text/plain": [
       "89"
      ]
     },
     "execution_count": 44,
     "metadata": {},
     "output_type": "execute_result"
    }
   ],
   "source": [
    "outliers_upper= df[df['Gross'] > upper_bound]['Gross'].count()\n",
    "outliers_upper"
   ]
  },
  {
   "cell_type": "markdown",
   "id": "38acc0df",
   "metadata": {},
   "source": [
    "**We have filled the null values by `Median()` now we will remove the outliers.**"
   ]
  },
  {
   "cell_type": "code",
   "execution_count": 45,
   "id": "0ce48b24",
   "metadata": {
    "ExecuteTime": {
     "end_time": "2023-04-07T11:48:56.044953Z",
     "start_time": "2023-04-07T11:48:56.030907Z"
    }
   },
   "outputs": [],
   "source": [
    "df2 = df[(df['Gross'] > lower_bound) & (df['Gross'] < upper_bound)]\n"
   ]
  },
  {
   "cell_type": "code",
   "execution_count": 46,
   "id": "4c492d57",
   "metadata": {
    "ExecuteTime": {
     "end_time": "2023-04-07T11:48:56.076916Z",
     "start_time": "2023-04-07T11:48:56.047945Z"
    }
   },
   "outputs": [
    {
     "data": {
      "text/html": [
       "<div>\n",
       "<style scoped>\n",
       "    .dataframe tbody tr th:only-of-type {\n",
       "        vertical-align: middle;\n",
       "    }\n",
       "\n",
       "    .dataframe tbody tr th {\n",
       "        vertical-align: top;\n",
       "    }\n",
       "\n",
       "    .dataframe thead th {\n",
       "        text-align: right;\n",
       "    }\n",
       "</style>\n",
       "<table border=\"1\" class=\"dataframe\">\n",
       "  <thead>\n",
       "    <tr style=\"text-align: right;\">\n",
       "      <th></th>\n",
       "      <th>Series_Title</th>\n",
       "      <th>Released_Year</th>\n",
       "      <th>Genre</th>\n",
       "      <th>IMDB_Rating</th>\n",
       "      <th>Meta_score</th>\n",
       "      <th>Director</th>\n",
       "      <th>Star1</th>\n",
       "      <th>Star2</th>\n",
       "      <th>No_of_Votes</th>\n",
       "      <th>Gross</th>\n",
       "    </tr>\n",
       "  </thead>\n",
       "  <tbody>\n",
       "    <tr>\n",
       "      <th>0</th>\n",
       "      <td>The Shawshank Redemption</td>\n",
       "      <td>1994</td>\n",
       "      <td>Drama</td>\n",
       "      <td>9.3</td>\n",
       "      <td>80.0</td>\n",
       "      <td>Frank Darabont</td>\n",
       "      <td>Tim Robbins</td>\n",
       "      <td>Morgan Freeman</td>\n",
       "      <td>2343110</td>\n",
       "      <td>28341469.0</td>\n",
       "    </tr>\n",
       "    <tr>\n",
       "      <th>1</th>\n",
       "      <td>The Godfather</td>\n",
       "      <td>1972</td>\n",
       "      <td>Crime, Drama</td>\n",
       "      <td>9.2</td>\n",
       "      <td>100.0</td>\n",
       "      <td>Francis Ford Coppola</td>\n",
       "      <td>Marlon Brando</td>\n",
       "      <td>Al Pacino</td>\n",
       "      <td>1620367</td>\n",
       "      <td>134966411.0</td>\n",
       "    </tr>\n",
       "    <tr>\n",
       "      <th>3</th>\n",
       "      <td>The Godfather: Part II</td>\n",
       "      <td>1974</td>\n",
       "      <td>Crime, Drama</td>\n",
       "      <td>9.0</td>\n",
       "      <td>90.0</td>\n",
       "      <td>Francis Ford Coppola</td>\n",
       "      <td>Al Pacino</td>\n",
       "      <td>Robert De Niro</td>\n",
       "      <td>1129952</td>\n",
       "      <td>57300000.0</td>\n",
       "    </tr>\n",
       "    <tr>\n",
       "      <th>4</th>\n",
       "      <td>12 Angry Men</td>\n",
       "      <td>1957</td>\n",
       "      <td>Crime, Drama</td>\n",
       "      <td>9.0</td>\n",
       "      <td>96.0</td>\n",
       "      <td>Sidney Lumet</td>\n",
       "      <td>Henry Fonda</td>\n",
       "      <td>Lee J. Cobb</td>\n",
       "      <td>689845</td>\n",
       "      <td>4360000.0</td>\n",
       "    </tr>\n",
       "    <tr>\n",
       "      <th>6</th>\n",
       "      <td>Pulp Fiction</td>\n",
       "      <td>1994</td>\n",
       "      <td>Crime, Drama</td>\n",
       "      <td>8.9</td>\n",
       "      <td>94.0</td>\n",
       "      <td>Quentin Tarantino</td>\n",
       "      <td>John Travolta</td>\n",
       "      <td>Uma Thurman</td>\n",
       "      <td>1826188</td>\n",
       "      <td>107928762.0</td>\n",
       "    </tr>\n",
       "  </tbody>\n",
       "</table>\n",
       "</div>"
      ],
      "text/plain": [
       "               Series_Title Released_Year         Genre  IMDB_Rating  \\\n",
       "0  The Shawshank Redemption          1994         Drama          9.3   \n",
       "1             The Godfather          1972  Crime, Drama          9.2   \n",
       "3    The Godfather: Part II          1974  Crime, Drama          9.0   \n",
       "4              12 Angry Men          1957  Crime, Drama          9.0   \n",
       "6              Pulp Fiction          1994  Crime, Drama          8.9   \n",
       "\n",
       "   Meta_score              Director          Star1           Star2  \\\n",
       "0        80.0        Frank Darabont    Tim Robbins  Morgan Freeman   \n",
       "1       100.0  Francis Ford Coppola  Marlon Brando       Al Pacino   \n",
       "3        90.0  Francis Ford Coppola      Al Pacino  Robert De Niro   \n",
       "4        96.0          Sidney Lumet    Henry Fonda     Lee J. Cobb   \n",
       "6        94.0     Quentin Tarantino  John Travolta     Uma Thurman   \n",
       "\n",
       "   No_of_Votes        Gross  \n",
       "0      2343110   28341469.0  \n",
       "1      1620367  134966411.0  \n",
       "3      1129952   57300000.0  \n",
       "4       689845    4360000.0  \n",
       "6      1826188  107928762.0  "
      ]
     },
     "execution_count": 46,
     "metadata": {},
     "output_type": "execute_result"
    }
   ],
   "source": [
    "df2.head()"
   ]
  },
  {
   "cell_type": "code",
   "execution_count": 47,
   "id": "96f97249",
   "metadata": {
    "ExecuteTime": {
     "end_time": "2023-04-07T11:48:56.092885Z",
     "start_time": "2023-04-07T11:48:56.079924Z"
    }
   },
   "outputs": [
    {
     "data": {
      "text/plain": [
       "0"
      ]
     },
     "execution_count": 47,
     "metadata": {},
     "output_type": "execute_result"
    }
   ],
   "source": [
    "df2['Gross'].isnull().sum()"
   ]
  },
  {
   "cell_type": "code",
   "execution_count": 48,
   "id": "2f17962a",
   "metadata": {
    "ExecuteTime": {
     "end_time": "2023-04-07T11:48:56.122803Z",
     "start_time": "2023-04-07T11:48:56.095878Z"
    }
   },
   "outputs": [
    {
     "name": "stdout",
     "output_type": "stream",
     "text": [
      "<class 'pandas.core.series.Series'>\n",
      "Int64Index: 910 entries, 0 to 999\n",
      "Series name: Gross\n",
      "Non-Null Count  Dtype  \n",
      "--------------  -----  \n",
      "910 non-null    float64\n",
      "dtypes: float64(1)\n",
      "memory usage: 14.2 KB\n"
     ]
    }
   ],
   "source": [
    "df2['Gross'].info()"
   ]
  },
  {
   "cell_type": "code",
   "execution_count": 49,
   "id": "3336bb20",
   "metadata": {
    "ExecuteTime": {
     "end_time": "2023-04-07T11:48:56.154719Z",
     "start_time": "2023-04-07T11:48:56.124799Z"
    }
   },
   "outputs": [
    {
     "name": "stdout",
     "output_type": "stream",
     "text": [
      "<class 'pandas.core.frame.DataFrame'>\n",
      "Int64Index: 910 entries, 0 to 999\n",
      "Data columns (total 10 columns):\n",
      " #   Column         Non-Null Count  Dtype  \n",
      "---  ------         --------------  -----  \n",
      " 0   Series_Title   910 non-null    object \n",
      " 1   Released_Year  910 non-null    object \n",
      " 2   Genre          910 non-null    object \n",
      " 3   IMDB_Rating    910 non-null    float64\n",
      " 4   Meta_score     753 non-null    float64\n",
      " 5   Director       910 non-null    object \n",
      " 6   Star1          910 non-null    object \n",
      " 7   Star2          910 non-null    object \n",
      " 8   No_of_Votes    910 non-null    int64  \n",
      " 9   Gross          910 non-null    float64\n",
      "dtypes: float64(3), int64(1), object(6)\n",
      "memory usage: 78.2+ KB\n"
     ]
    }
   ],
   "source": [
    "df2.info()"
   ]
  },
  {
   "cell_type": "code",
   "execution_count": 50,
   "id": "1350ac22",
   "metadata": {
    "ExecuteTime": {
     "end_time": "2023-04-07T11:48:56.186259Z",
     "start_time": "2023-04-07T11:48:56.157712Z"
    }
   },
   "outputs": [
    {
     "data": {
      "text/html": [
       "<div>\n",
       "<style scoped>\n",
       "    .dataframe tbody tr th:only-of-type {\n",
       "        vertical-align: middle;\n",
       "    }\n",
       "\n",
       "    .dataframe tbody tr th {\n",
       "        vertical-align: top;\n",
       "    }\n",
       "\n",
       "    .dataframe thead th {\n",
       "        text-align: right;\n",
       "    }\n",
       "</style>\n",
       "<table border=\"1\" class=\"dataframe\">\n",
       "  <thead>\n",
       "    <tr style=\"text-align: right;\">\n",
       "      <th></th>\n",
       "      <th>Series_Title</th>\n",
       "      <th>Released_Year</th>\n",
       "      <th>Genre</th>\n",
       "      <th>IMDB_Rating</th>\n",
       "      <th>Meta_score</th>\n",
       "      <th>Director</th>\n",
       "      <th>Star1</th>\n",
       "      <th>Star2</th>\n",
       "      <th>No_of_Votes</th>\n",
       "      <th>Gross</th>\n",
       "    </tr>\n",
       "  </thead>\n",
       "  <tbody>\n",
       "    <tr>\n",
       "      <th>0</th>\n",
       "      <td>The Shawshank Redemption</td>\n",
       "      <td>1994</td>\n",
       "      <td>Drama</td>\n",
       "      <td>9.3</td>\n",
       "      <td>80.0</td>\n",
       "      <td>Frank Darabont</td>\n",
       "      <td>Tim Robbins</td>\n",
       "      <td>Morgan Freeman</td>\n",
       "      <td>2343110</td>\n",
       "      <td>28341469.0</td>\n",
       "    </tr>\n",
       "    <tr>\n",
       "      <th>1</th>\n",
       "      <td>The Godfather</td>\n",
       "      <td>1972</td>\n",
       "      <td>Crime, Drama</td>\n",
       "      <td>9.2</td>\n",
       "      <td>100.0</td>\n",
       "      <td>Francis Ford Coppola</td>\n",
       "      <td>Marlon Brando</td>\n",
       "      <td>Al Pacino</td>\n",
       "      <td>1620367</td>\n",
       "      <td>134966411.0</td>\n",
       "    </tr>\n",
       "    <tr>\n",
       "      <th>2</th>\n",
       "      <td>The Dark Knight</td>\n",
       "      <td>2008</td>\n",
       "      <td>Action, Crime, Drama</td>\n",
       "      <td>9.0</td>\n",
       "      <td>84.0</td>\n",
       "      <td>Christopher Nolan</td>\n",
       "      <td>Christian Bale</td>\n",
       "      <td>Heath Ledger</td>\n",
       "      <td>2303232</td>\n",
       "      <td>534858444.0</td>\n",
       "    </tr>\n",
       "    <tr>\n",
       "      <th>3</th>\n",
       "      <td>The Godfather: Part II</td>\n",
       "      <td>1974</td>\n",
       "      <td>Crime, Drama</td>\n",
       "      <td>9.0</td>\n",
       "      <td>90.0</td>\n",
       "      <td>Francis Ford Coppola</td>\n",
       "      <td>Al Pacino</td>\n",
       "      <td>Robert De Niro</td>\n",
       "      <td>1129952</td>\n",
       "      <td>57300000.0</td>\n",
       "    </tr>\n",
       "    <tr>\n",
       "      <th>4</th>\n",
       "      <td>12 Angry Men</td>\n",
       "      <td>1957</td>\n",
       "      <td>Crime, Drama</td>\n",
       "      <td>9.0</td>\n",
       "      <td>96.0</td>\n",
       "      <td>Sidney Lumet</td>\n",
       "      <td>Henry Fonda</td>\n",
       "      <td>Lee J. Cobb</td>\n",
       "      <td>689845</td>\n",
       "      <td>4360000.0</td>\n",
       "    </tr>\n",
       "  </tbody>\n",
       "</table>\n",
       "</div>"
      ],
      "text/plain": [
       "               Series_Title Released_Year                 Genre  IMDB_Rating  \\\n",
       "0  The Shawshank Redemption          1994                 Drama          9.3   \n",
       "1             The Godfather          1972          Crime, Drama          9.2   \n",
       "2           The Dark Knight          2008  Action, Crime, Drama          9.0   \n",
       "3    The Godfather: Part II          1974          Crime, Drama          9.0   \n",
       "4              12 Angry Men          1957          Crime, Drama          9.0   \n",
       "\n",
       "   Meta_score              Director           Star1           Star2  \\\n",
       "0        80.0        Frank Darabont     Tim Robbins  Morgan Freeman   \n",
       "1       100.0  Francis Ford Coppola   Marlon Brando       Al Pacino   \n",
       "2        84.0     Christopher Nolan  Christian Bale    Heath Ledger   \n",
       "3        90.0  Francis Ford Coppola       Al Pacino  Robert De Niro   \n",
       "4        96.0          Sidney Lumet     Henry Fonda     Lee J. Cobb   \n",
       "\n",
       "   No_of_Votes        Gross  \n",
       "0      2343110   28341469.0  \n",
       "1      1620367  134966411.0  \n",
       "2      2303232  534858444.0  \n",
       "3      1129952   57300000.0  \n",
       "4       689845    4360000.0  "
      ]
     },
     "execution_count": 50,
     "metadata": {},
     "output_type": "execute_result"
    }
   ],
   "source": [
    "df.head()"
   ]
  },
  {
   "cell_type": "code",
   "execution_count": 51,
   "id": "9b330d84",
   "metadata": {
    "ExecuteTime": {
     "end_time": "2023-04-07T11:48:56.217790Z",
     "start_time": "2023-04-07T11:48:56.193833Z"
    }
   },
   "outputs": [
    {
     "name": "stdout",
     "output_type": "stream",
     "text": [
      "<class 'pandas.core.frame.DataFrame'>\n",
      "Int64Index: 910 entries, 0 to 999\n",
      "Data columns (total 10 columns):\n",
      " #   Column         Non-Null Count  Dtype  \n",
      "---  ------         --------------  -----  \n",
      " 0   Series_Title   910 non-null    object \n",
      " 1   Released_Year  910 non-null    object \n",
      " 2   Genre          910 non-null    object \n",
      " 3   IMDB_Rating    910 non-null    float64\n",
      " 4   Meta_score     753 non-null    float64\n",
      " 5   Director       910 non-null    object \n",
      " 6   Star1          910 non-null    object \n",
      " 7   Star2          910 non-null    object \n",
      " 8   No_of_Votes    910 non-null    int64  \n",
      " 9   Gross          910 non-null    float64\n",
      "dtypes: float64(3), int64(1), object(6)\n",
      "memory usage: 78.2+ KB\n"
     ]
    }
   ],
   "source": [
    "df2.info()"
   ]
  },
  {
   "cell_type": "code",
   "execution_count": 52,
   "id": "df450c21",
   "metadata": {
    "ExecuteTime": {
     "end_time": "2023-04-07T11:48:56.233287Z",
     "start_time": "2023-04-07T11:48:56.221319Z"
    }
   },
   "outputs": [
    {
     "data": {
      "text/plain": [
       "157"
      ]
     },
     "execution_count": 52,
     "metadata": {},
     "output_type": "execute_result"
    }
   ],
   "source": [
    "df2['Meta_score'].isnull().sum()"
   ]
  },
  {
   "cell_type": "code",
   "execution_count": 53,
   "id": "9d0a5913",
   "metadata": {
    "ExecuteTime": {
     "end_time": "2023-04-07T11:48:56.423920Z",
     "start_time": "2023-04-07T11:48:56.236281Z"
    }
   },
   "outputs": [
    {
     "data": {
      "text/plain": [
       "<AxesSubplot:>"
      ]
     },
     "execution_count": 53,
     "metadata": {},
     "output_type": "execute_result"
    },
    {
     "data": {
      "image/png": "[encoded data removed]",
      "text/plain": [
       "<Figure size 432x288 with 1 Axes>"
      ]
     },
     "metadata": {
      "needs_background": "light"
     },
     "output_type": "display_data"
    }
   ],
   "source": [
    "df2['Meta_score'].plot(kind= 'box')"
   ]
  },
  {
   "cell_type": "code",
   "execution_count": 54,
   "id": "91e3d6c7",
   "metadata": {
    "ExecuteTime": {
     "end_time": "2023-04-07T11:48:56.439960Z",
     "start_time": "2023-04-07T11:48:56.428912Z"
    }
   },
   "outputs": [
    {
     "name": "stderr",
     "output_type": "stream",
     "text": [
      "C:\\Users\\hp\\AppData\\Local\\Temp\\ipykernel_9980\\1922727526.py:1: SettingWithCopyWarning: \n",
      "A value is trying to be set on a copy of a slice from a DataFrame.\n",
      "Try using .loc[row_indexer,col_indexer] = value instead\n",
      "\n",
      "See the caveats in the documentation: https://pandas.pydata.org/pandas-docs/stable/user_guide/indexing.html#returning-a-view-versus-a-copy\n",
      "  df2['Meta_score'] = df2['Meta_score'].fillna(df2['Meta_score'].median())\n"
     ]
    }
   ],
   "source": [
    "df2['Meta_score'] = df2['Meta_score'].fillna(df2['Meta_score'].median())"
   ]
  },
  {
   "cell_type": "code",
   "execution_count": 55,
   "id": "a74854f8",
   "metadata": {
    "ExecuteTime": {
     "end_time": "2023-04-07T11:48:56.455835Z",
     "start_time": "2023-04-07T11:48:56.442872Z"
    }
   },
   "outputs": [
    {
     "data": {
      "text/plain": [
       "0"
      ]
     },
     "execution_count": 55,
     "metadata": {},
     "output_type": "execute_result"
    }
   ],
   "source": [
    "df2['Meta_score'].isnull().sum()"
   ]
  },
  {
   "cell_type": "markdown",
   "id": "6e0d419e",
   "metadata": {},
   "source": [
    "**There is no missing value in the `Meta_score` column.**"
   ]
  },
  {
   "cell_type": "code",
   "execution_count": 56,
   "id": "b2eb6f9f",
   "metadata": {
    "ExecuteTime": {
     "end_time": "2023-04-07T11:48:56.471794Z",
     "start_time": "2023-04-07T11:48:56.458830Z"
    },
    "scrolled": true
   },
   "outputs": [
    {
     "data": {
      "text/plain": [
       "Series_Title     0\n",
       "Released_Year    0\n",
       "Genre            0\n",
       "IMDB_Rating      0\n",
       "Meta_score       0\n",
       "Director         0\n",
       "Star1            0\n",
       "Star2            0\n",
       "No_of_Votes      0\n",
       "Gross            0\n",
       "dtype: int64"
      ]
     },
     "execution_count": 56,
     "metadata": {},
     "output_type": "execute_result"
    }
   ],
   "source": [
    "df2.isnull().sum()"
   ]
  },
  {
   "cell_type": "markdown",
   "id": "0a38e2ab",
   "metadata": {},
   "source": [
    "**Now there is no missing value in this dataframe.**"
   ]
  },
  {
   "cell_type": "code",
   "execution_count": 57,
   "id": "cf306aa9",
   "metadata": {
    "ExecuteTime": {
     "end_time": "2023-04-07T11:48:56.535879Z",
     "start_time": "2023-04-07T11:48:56.523909Z"
    }
   },
   "outputs": [
    {
     "name": "stderr",
     "output_type": "stream",
     "text": [
      "C:\\Users\\hp\\AppData\\Local\\Temp\\ipykernel_9980\\2590079371.py:1: SettingWithCopyWarning: \n",
      "A value is trying to be set on a copy of a slice from a DataFrame\n",
      "\n",
      "See the caveats in the documentation: https://pandas.pydata.org/pandas-docs/stable/user_guide/indexing.html#returning-a-view-versus-a-copy\n",
      "  df2.drop([\"Series_Title\"], axis=1, inplace=True)\n"
     ]
    }
   ],
   "source": [
    "df2.drop([\"Series_Title\"], axis=1, inplace=True)"
   ]
  },
  {
   "cell_type": "code",
   "execution_count": 58,
   "id": "bcf1c1df",
   "metadata": {
    "ExecuteTime": {
     "end_time": "2023-04-07T11:48:56.599742Z",
     "start_time": "2023-04-07T11:48:56.586743Z"
    }
   },
   "outputs": [
    {
     "name": "stderr",
     "output_type": "stream",
     "text": [
      "C:\\Users\\hp\\AppData\\Local\\Temp\\ipykernel_9980\\2030627397.py:1: SettingWithCopyWarning: \n",
      "A value is trying to be set on a copy of a slice from a DataFrame\n",
      "\n",
      "See the caveats in the documentation: https://pandas.pydata.org/pandas-docs/stable/user_guide/indexing.html#returning-a-view-versus-a-copy\n",
      "  df2.drop([\"Released_Year\"], axis=1, inplace=True)\n"
     ]
    }
   ],
   "source": [
    "df2.drop([\"Released_Year\"], axis=1, inplace=True)"
   ]
  },
  {
   "cell_type": "code",
   "execution_count": 59,
   "id": "ec618c3f",
   "metadata": {
    "ExecuteTime": {
     "end_time": "2023-04-07T11:48:56.662393Z",
     "start_time": "2023-04-07T11:48:56.647570Z"
    }
   },
   "outputs": [
    {
     "data": {
      "text/plain": [
       "0"
      ]
     },
     "execution_count": 59,
     "metadata": {},
     "output_type": "execute_result"
    }
   ],
   "source": [
    "df2.duplicated().sum()"
   ]
  },
  {
   "cell_type": "markdown",
   "id": "e04d453a",
   "metadata": {},
   "source": [
    "## Groupwise analysis\n",
    "\n",
    "### `Genre` Column"
   ]
  },
  {
   "cell_type": "code",
   "execution_count": 60,
   "id": "4dd985aa",
   "metadata": {
    "ExecuteTime": {
     "end_time": "2023-04-07T11:48:56.897858Z",
     "start_time": "2023-04-07T11:48:56.882896Z"
    }
   },
   "outputs": [],
   "source": [
    "genre_df = df2.groupby('Genre')['Genre'].count().sort_values(ascending=False)"
   ]
  },
  {
   "cell_type": "code",
   "execution_count": 61,
   "id": "4571e527",
   "metadata": {
    "ExecuteTime": {
     "end_time": "2023-04-07T11:48:56.960765Z",
     "start_time": "2023-04-07T11:48:56.944808Z"
    }
   },
   "outputs": [
    {
     "name": "stdout",
     "output_type": "stream",
     "text": [
      "<class 'pandas.core.series.Series'>\n",
      "Index: 196 entries, Drama to Action, Adventure\n",
      "Series name: Genre\n",
      "Non-Null Count  Dtype\n",
      "--------------  -----\n",
      "196 non-null    int64\n",
      "dtypes: int64(1)\n",
      "memory usage: 3.1+ KB\n"
     ]
    }
   ],
   "source": [
    "genre_df.info()"
   ]
  },
  {
   "cell_type": "code",
   "execution_count": 62,
   "id": "0fc389a9",
   "metadata": {
    "ExecuteTime": {
     "end_time": "2023-04-07T11:48:57.023584Z",
     "start_time": "2023-04-07T11:48:57.011124Z"
    }
   },
   "outputs": [
    {
     "data": {
      "text/plain": [
       "Genre\n",
       "Drama                        85\n",
       "Comedy, Drama                35\n",
       "Drama, Romance               35\n",
       "Comedy, Drama, Romance       31\n",
       "Action, Crime, Drama         29\n",
       "                             ..\n",
       "Crime, Drama, History         1\n",
       "Adventure, History, War       1\n",
       "Comedy, Western               1\n",
       "Adventure, Horror, Sci-Fi     1\n",
       "Action, Adventure             1\n",
       "Name: Genre, Length: 196, dtype: int64"
      ]
     },
     "execution_count": 62,
     "metadata": {},
     "output_type": "execute_result"
    }
   ],
   "source": [
    "genre_df"
   ]
  },
  {
   "cell_type": "code",
   "execution_count": 63,
   "id": "8f95eded",
   "metadata": {
    "ExecuteTime": {
     "end_time": "2023-04-07T11:48:57.416692Z",
     "start_time": "2023-04-07T11:48:57.074886Z"
    }
   },
   "outputs": [
    {
     "data": {
      "text/plain": [
       "<AxesSubplot:>"
      ]
     },
     "execution_count": 63,
     "metadata": {},
     "output_type": "execute_result"
    },
    {
     "data": {
      "image/png": "[encoded data removed]",
      "text/plain": [
       "<Figure size 720x360 with 1 Axes>"
      ]
     },
     "metadata": {
      "needs_background": "light"
     },
     "output_type": "display_data"
    }
   ],
   "source": [
    "genre_df.value_counts().plot(kind='barh', figsize=(10,5), x='Genre', y='counts')"
   ]
  },
  {
   "cell_type": "markdown",
   "id": "75fefd37",
   "metadata": {},
   "source": [
    "**`1` has the maximum value.** "
   ]
  },
  {
   "cell_type": "code",
   "execution_count": 64,
   "id": "50b52db8",
   "metadata": {
    "ExecuteTime": {
     "end_time": "2023-04-07T11:48:57.447617Z",
     "start_time": "2023-04-07T11:48:57.421680Z"
    }
   },
   "outputs": [],
   "source": [
    "director_df = df2.groupby(by=['Director','Gross','Genre']).count()"
   ]
  },
  {
   "cell_type": "code",
   "execution_count": 65,
   "id": "d097ee16",
   "metadata": {
    "ExecuteTime": {
     "end_time": "2023-04-07T11:48:57.494788Z",
     "start_time": "2023-04-07T11:48:57.455598Z"
    }
   },
   "outputs": [
    {
     "data": {
      "text/html": [
       "<div>\n",
       "<style scoped>\n",
       "    .dataframe tbody tr th:only-of-type {\n",
       "        vertical-align: middle;\n",
       "    }\n",
       "\n",
       "    .dataframe tbody tr th {\n",
       "        vertical-align: top;\n",
       "    }\n",
       "\n",
       "    .dataframe thead th {\n",
       "        text-align: right;\n",
       "    }\n",
       "</style>\n",
       "<table border=\"1\" class=\"dataframe\">\n",
       "  <thead>\n",
       "    <tr style=\"text-align: right;\">\n",
       "      <th></th>\n",
       "      <th></th>\n",
       "      <th></th>\n",
       "      <th>IMDB_Rating</th>\n",
       "      <th>Meta_score</th>\n",
       "      <th>Star1</th>\n",
       "      <th>Star2</th>\n",
       "      <th>No_of_Votes</th>\n",
       "    </tr>\n",
       "    <tr>\n",
       "      <th>Director</th>\n",
       "      <th>Gross</th>\n",
       "      <th>Genre</th>\n",
       "      <th></th>\n",
       "      <th></th>\n",
       "      <th></th>\n",
       "      <th></th>\n",
       "      <th></th>\n",
       "    </tr>\n",
       "  </thead>\n",
       "  <tbody>\n",
       "    <tr>\n",
       "      <th>Aamir Khan</th>\n",
       "      <th>1223869.0</th>\n",
       "      <th>Drama, Family</th>\n",
       "      <td>1</td>\n",
       "      <td>1</td>\n",
       "      <td>1</td>\n",
       "      <td>1</td>\n",
       "      <td>1</td>\n",
       "    </tr>\n",
       "    <tr>\n",
       "      <th>Aaron Sorkin</th>\n",
       "      <th>23457439.5</th>\n",
       "      <th>Drama, History, Thriller</th>\n",
       "      <td>1</td>\n",
       "      <td>1</td>\n",
       "      <td>1</td>\n",
       "      <td>1</td>\n",
       "      <td>1</td>\n",
       "    </tr>\n",
       "    <tr>\n",
       "      <th>Abdellatif Kechiche</th>\n",
       "      <th>2199675.0</th>\n",
       "      <th>Drama, Romance</th>\n",
       "      <td>1</td>\n",
       "      <td>1</td>\n",
       "      <td>1</td>\n",
       "      <td>1</td>\n",
       "      <td>1</td>\n",
       "    </tr>\n",
       "    <tr>\n",
       "      <th>Abhishek Chaubey</th>\n",
       "      <th>23457439.5</th>\n",
       "      <th>Action, Crime, Drama</th>\n",
       "      <td>1</td>\n",
       "      <td>1</td>\n",
       "      <td>1</td>\n",
       "      <td>1</td>\n",
       "      <td>1</td>\n",
       "    </tr>\n",
       "    <tr>\n",
       "      <th>Abhishek Kapoor</th>\n",
       "      <th>1122527.0</th>\n",
       "      <th>Drama, Sport</th>\n",
       "      <td>1</td>\n",
       "      <td>1</td>\n",
       "      <td>1</td>\n",
       "      <td>1</td>\n",
       "      <td>1</td>\n",
       "    </tr>\n",
       "    <tr>\n",
       "      <th>...</th>\n",
       "      <th>...</th>\n",
       "      <th>...</th>\n",
       "      <td>...</td>\n",
       "      <td>...</td>\n",
       "      <td>...</td>\n",
       "      <td>...</td>\n",
       "      <td>...</td>\n",
       "    </tr>\n",
       "    <tr>\n",
       "      <th>Zaza Urushadze</th>\n",
       "      <th>144501.0</th>\n",
       "      <th>Drama, War</th>\n",
       "      <td>1</td>\n",
       "      <td>1</td>\n",
       "      <td>1</td>\n",
       "      <td>1</td>\n",
       "      <td>1</td>\n",
       "    </tr>\n",
       "    <tr>\n",
       "      <th rowspan=\"2\" valign=\"top\">Zoya Akhtar</th>\n",
       "      <th>3108485.0</th>\n",
       "      <th>Comedy, Drama</th>\n",
       "      <td>1</td>\n",
       "      <td>1</td>\n",
       "      <td>1</td>\n",
       "      <td>1</td>\n",
       "      <td>1</td>\n",
       "    </tr>\n",
       "    <tr>\n",
       "      <th>5566534.0</th>\n",
       "      <th>Drama, Music, Romance</th>\n",
       "      <td>1</td>\n",
       "      <td>1</td>\n",
       "      <td>1</td>\n",
       "      <td>1</td>\n",
       "      <td>1</td>\n",
       "    </tr>\n",
       "    <tr>\n",
       "      <th>Çagan Irmak</th>\n",
       "      <th>23457439.5</th>\n",
       "      <th>Drama, Family</th>\n",
       "      <td>1</td>\n",
       "      <td>1</td>\n",
       "      <td>1</td>\n",
       "      <td>1</td>\n",
       "      <td>1</td>\n",
       "    </tr>\n",
       "    <tr>\n",
       "      <th>Ömer Faruk Sorak</th>\n",
       "      <th>23457439.5</th>\n",
       "      <th>Adventure, Comedy, Sci-Fi</th>\n",
       "      <td>1</td>\n",
       "      <td>1</td>\n",
       "      <td>1</td>\n",
       "      <td>1</td>\n",
       "      <td>1</td>\n",
       "    </tr>\n",
       "  </tbody>\n",
       "</table>\n",
       "<p>908 rows × 5 columns</p>\n",
       "</div>"
      ],
      "text/plain": [
       "                                                          IMDB_Rating  \\\n",
       "Director            Gross      Genre                                    \n",
       "Aamir Khan          1223869.0  Drama, Family                        1   \n",
       "Aaron Sorkin        23457439.5 Drama, History, Thriller             1   \n",
       "Abdellatif Kechiche 2199675.0  Drama, Romance                       1   \n",
       "Abhishek Chaubey    23457439.5 Action, Crime, Drama                 1   \n",
       "Abhishek Kapoor     1122527.0  Drama, Sport                         1   \n",
       "...                                                               ...   \n",
       "Zaza Urushadze      144501.0   Drama, War                           1   \n",
       "Zoya Akhtar         3108485.0  Comedy, Drama                        1   \n",
       "                    5566534.0  Drama, Music, Romance                1   \n",
       "Çagan Irmak         23457439.5 Drama, Family                        1   \n",
       "Ömer Faruk Sorak    23457439.5 Adventure, Comedy, Sci-Fi            1   \n",
       "\n",
       "                                                          Meta_score  Star1  \\\n",
       "Director            Gross      Genre                                          \n",
       "Aamir Khan          1223869.0  Drama, Family                       1      1   \n",
       "Aaron Sorkin        23457439.5 Drama, History, Thriller            1      1   \n",
       "Abdellatif Kechiche 2199675.0  Drama, Romance                      1      1   \n",
       "Abhishek Chaubey    23457439.5 Action, Crime, Drama                1      1   \n",
       "Abhishek Kapoor     1122527.0  Drama, Sport                        1      1   \n",
       "...                                                              ...    ...   \n",
       "Zaza Urushadze      144501.0   Drama, War                          1      1   \n",
       "Zoya Akhtar         3108485.0  Comedy, Drama                       1      1   \n",
       "                    5566534.0  Drama, Music, Romance               1      1   \n",
       "Çagan Irmak         23457439.5 Drama, Family                       1      1   \n",
       "Ömer Faruk Sorak    23457439.5 Adventure, Comedy, Sci-Fi           1      1   \n",
       "\n",
       "                                                          Star2  No_of_Votes  \n",
       "Director            Gross      Genre                                          \n",
       "Aamir Khan          1223869.0  Drama, Family                  1            1  \n",
       "Aaron Sorkin        23457439.5 Drama, History, Thriller       1            1  \n",
       "Abdellatif Kechiche 2199675.0  Drama, Romance                 1            1  \n",
       "Abhishek Chaubey    23457439.5 Action, Crime, Drama           1            1  \n",
       "Abhishek Kapoor     1122527.0  Drama, Sport                   1            1  \n",
       "...                                                         ...          ...  \n",
       "Zaza Urushadze      144501.0   Drama, War                     1            1  \n",
       "Zoya Akhtar         3108485.0  Comedy, Drama                  1            1  \n",
       "                    5566534.0  Drama, Music, Romance          1            1  \n",
       "Çagan Irmak         23457439.5 Drama, Family                  1            1  \n",
       "Ömer Faruk Sorak    23457439.5 Adventure, Comedy, Sci-Fi      1            1  \n",
       "\n",
       "[908 rows x 5 columns]"
      ]
     },
     "execution_count": 65,
     "metadata": {},
     "output_type": "execute_result"
    }
   ],
   "source": [
    "director_df"
   ]
  },
  {
   "cell_type": "markdown",
   "id": "1958f1d5",
   "metadata": {},
   "source": [
    "## Bivariate analysis"
   ]
  },
  {
   "cell_type": "code",
   "execution_count": 66,
   "id": "87ea2b0d",
   "metadata": {
    "ExecuteTime": {
     "end_time": "2023-04-07T11:48:58.139548Z",
     "start_time": "2023-04-07T11:48:57.694838Z"
    }
   },
   "outputs": [
    {
     "data": {
      "text/plain": [
       "<AxesSubplot:>"
      ]
     },
     "execution_count": 66,
     "metadata": {},
     "output_type": "execute_result"
    },
    {
     "data": {
      "image/png": "[encoded data removed]",
      "text/plain": [
       "<Figure size 432x288 with 1 Axes>"
      ]
     },
     "metadata": {
      "needs_background": "light"
     },
     "output_type": "display_data"
    }
   ],
   "source": [
    "df2['Director'].head(20).value_counts().plot.bar()"
   ]
  },
  {
   "cell_type": "markdown",
   "id": "d0b9af25",
   "metadata": {},
   "source": [
    "**`Frank Darabont`, `David Fincher`, and `Francis Ford Coppola` has the maximum and equal frequency. the means movies of these Directors are most watched according to this data.**"
   ]
  },
  {
   "cell_type": "code",
   "execution_count": 67,
   "id": "b70f1d24",
   "metadata": {
    "ExecuteTime": {
     "end_time": "2023-04-07T11:48:58.170555Z",
     "start_time": "2023-04-07T11:48:58.142541Z"
    }
   },
   "outputs": [
    {
     "data": {
      "text/html": [
       "<div>\n",
       "<style scoped>\n",
       "    .dataframe tbody tr th:only-of-type {\n",
       "        vertical-align: middle;\n",
       "    }\n",
       "\n",
       "    .dataframe tbody tr th {\n",
       "        vertical-align: top;\n",
       "    }\n",
       "\n",
       "    .dataframe thead th {\n",
       "        text-align: right;\n",
       "    }\n",
       "</style>\n",
       "<table border=\"1\" class=\"dataframe\">\n",
       "  <thead>\n",
       "    <tr style=\"text-align: right;\">\n",
       "      <th></th>\n",
       "      <th>Genre</th>\n",
       "      <th>IMDB_Rating</th>\n",
       "      <th>Meta_score</th>\n",
       "      <th>Director</th>\n",
       "      <th>Star1</th>\n",
       "      <th>Star2</th>\n",
       "      <th>No_of_Votes</th>\n",
       "      <th>Gross</th>\n",
       "    </tr>\n",
       "  </thead>\n",
       "  <tbody>\n",
       "    <tr>\n",
       "      <th>0</th>\n",
       "      <td>Drama</td>\n",
       "      <td>9.3</td>\n",
       "      <td>80.0</td>\n",
       "      <td>Frank Darabont</td>\n",
       "      <td>Tim Robbins</td>\n",
       "      <td>Morgan Freeman</td>\n",
       "      <td>2343110</td>\n",
       "      <td>28341469.0</td>\n",
       "    </tr>\n",
       "    <tr>\n",
       "      <th>1</th>\n",
       "      <td>Crime, Drama</td>\n",
       "      <td>9.2</td>\n",
       "      <td>100.0</td>\n",
       "      <td>Francis Ford Coppola</td>\n",
       "      <td>Marlon Brando</td>\n",
       "      <td>Al Pacino</td>\n",
       "      <td>1620367</td>\n",
       "      <td>134966411.0</td>\n",
       "    </tr>\n",
       "    <tr>\n",
       "      <th>3</th>\n",
       "      <td>Crime, Drama</td>\n",
       "      <td>9.0</td>\n",
       "      <td>90.0</td>\n",
       "      <td>Francis Ford Coppola</td>\n",
       "      <td>Al Pacino</td>\n",
       "      <td>Robert De Niro</td>\n",
       "      <td>1129952</td>\n",
       "      <td>57300000.0</td>\n",
       "    </tr>\n",
       "    <tr>\n",
       "      <th>4</th>\n",
       "      <td>Crime, Drama</td>\n",
       "      <td>9.0</td>\n",
       "      <td>96.0</td>\n",
       "      <td>Sidney Lumet</td>\n",
       "      <td>Henry Fonda</td>\n",
       "      <td>Lee J. Cobb</td>\n",
       "      <td>689845</td>\n",
       "      <td>4360000.0</td>\n",
       "    </tr>\n",
       "    <tr>\n",
       "      <th>6</th>\n",
       "      <td>Crime, Drama</td>\n",
       "      <td>8.9</td>\n",
       "      <td>94.0</td>\n",
       "      <td>Quentin Tarantino</td>\n",
       "      <td>John Travolta</td>\n",
       "      <td>Uma Thurman</td>\n",
       "      <td>1826188</td>\n",
       "      <td>107928762.0</td>\n",
       "    </tr>\n",
       "  </tbody>\n",
       "</table>\n",
       "</div>"
      ],
      "text/plain": [
       "          Genre  IMDB_Rating  Meta_score              Director          Star1  \\\n",
       "0         Drama          9.3        80.0        Frank Darabont    Tim Robbins   \n",
       "1  Crime, Drama          9.2       100.0  Francis Ford Coppola  Marlon Brando   \n",
       "3  Crime, Drama          9.0        90.0  Francis Ford Coppola      Al Pacino   \n",
       "4  Crime, Drama          9.0        96.0          Sidney Lumet    Henry Fonda   \n",
       "6  Crime, Drama          8.9        94.0     Quentin Tarantino  John Travolta   \n",
       "\n",
       "            Star2  No_of_Votes        Gross  \n",
       "0  Morgan Freeman      2343110   28341469.0  \n",
       "1       Al Pacino      1620367  134966411.0  \n",
       "3  Robert De Niro      1129952   57300000.0  \n",
       "4     Lee J. Cobb       689845    4360000.0  \n",
       "6     Uma Thurman      1826188  107928762.0  "
      ]
     },
     "execution_count": 67,
     "metadata": {},
     "output_type": "execute_result"
    }
   ],
   "source": [
    "df2.head()"
   ]
  },
  {
   "cell_type": "markdown",
   "id": "fa9fed4b",
   "metadata": {},
   "source": [
    "## Scatter plot for distribution of data"
   ]
  },
  {
   "cell_type": "code",
   "execution_count": 68,
   "id": "5d26e784",
   "metadata": {
    "ExecuteTime": {
     "end_time": "2023-04-07T11:48:58.677879Z",
     "start_time": "2023-04-07T11:48:58.428800Z"
    }
   },
   "outputs": [
    {
     "data": {
      "text/plain": [
       "<AxesSubplot:xlabel='IMDB_Rating', ylabel='Gross'>"
      ]
     },
     "execution_count": 68,
     "metadata": {},
     "output_type": "execute_result"
    },
    {
     "data": {
      "image/png": "[encoded data removed]",
      "text/plain": [
       "<Figure size 432x288 with 1 Axes>"
      ]
     },
     "metadata": {
      "needs_background": "light"
     },
     "output_type": "display_data"
    }
   ],
   "source": [
    "df2.plot.scatter(x='IMDB_Rating', y='Gross')"
   ]
  },
  {
   "cell_type": "code",
   "execution_count": 69,
   "id": "ae67fd83",
   "metadata": {
    "ExecuteTime": {
     "end_time": "2023-04-07T11:48:58.709803Z",
     "start_time": "2023-04-07T11:48:58.680872Z"
    }
   },
   "outputs": [
    {
     "name": "stdout",
     "output_type": "stream",
     "text": [
      "<class 'pandas.core.frame.DataFrame'>\n",
      "Int64Index: 910 entries, 0 to 999\n",
      "Data columns (total 8 columns):\n",
      " #   Column       Non-Null Count  Dtype  \n",
      "---  ------       --------------  -----  \n",
      " 0   Genre        910 non-null    object \n",
      " 1   IMDB_Rating  910 non-null    float64\n",
      " 2   Meta_score   910 non-null    float64\n",
      " 3   Director     910 non-null    object \n",
      " 4   Star1        910 non-null    object \n",
      " 5   Star2        910 non-null    object \n",
      " 6   No_of_Votes  910 non-null    int64  \n",
      " 7   Gross        910 non-null    float64\n",
      "dtypes: float64(3), int64(1), object(4)\n",
      "memory usage: 64.0+ KB\n"
     ]
    }
   ],
   "source": [
    "df2.info()"
   ]
  },
  {
   "cell_type": "code",
   "execution_count": 70,
   "id": "c8befa12",
   "metadata": {
    "ExecuteTime": {
     "end_time": "2023-04-07T11:48:59.137939Z",
     "start_time": "2023-04-07T11:48:58.712796Z"
    }
   },
   "outputs": [
    {
     "data": {
      "text/plain": [
       "<AxesSubplot:xlabel='IMDB_Rating', ylabel='Gross'>"
      ]
     },
     "execution_count": 70,
     "metadata": {},
     "output_type": "execute_result"
    },
    {
     "data": {
      "image/png": "[encoded data removed]",
      "text/plain": [
       "<Figure size 432x288 with 2 Axes>"
      ]
     },
     "metadata": {
      "needs_background": "light"
     },
     "output_type": "display_data"
    }
   ],
   "source": [
    "df2.plot.hexbin(x='IMDB_Rating', y='Gross')"
   ]
  },
  {
   "cell_type": "code",
   "execution_count": 71,
   "id": "13f2bc44",
   "metadata": {
    "ExecuteTime": {
     "end_time": "2023-04-07T11:48:59.169855Z",
     "start_time": "2023-04-07T11:48:59.141930Z"
    }
   },
   "outputs": [
    {
     "data": {
      "text/plain": [
       "Genre                         Gross      \n",
       "Comedy, Crime, Drama          1305.0              1305.0\n",
       "Action, Crime, Comedy         3296.0              3296.0\n",
       "Drama, Fantasy, Romance       3600.0              3600.0\n",
       "Crime, Drama, Thriller        6013.0              6013.0\n",
       "Action, Crime, Drama          6460.0              6460.0\n",
       "                                                ...     \n",
       "Action, Drama, History        188373161.0    188373161.0\n",
       "Animation, Adventure, Comedy  189422889.0    189422889.0\n",
       "Animation, Action, Adventure  190241310.0    190241310.0\n",
       "Animation, Adventure, Comedy  191796233.0    191796233.0\n",
       "Drama                         23457439.5     234574395.0\n",
       "Name: Gross, Length: 832, dtype: float64"
      ]
     },
     "execution_count": 71,
     "metadata": {},
     "output_type": "execute_result"
    }
   ],
   "source": [
    "df_genre_gross = df2.groupby(['Genre','Gross'])['Gross'].sum().sort_values()\n",
    "df_genre_gross"
   ]
  },
  {
   "cell_type": "code",
   "execution_count": 72,
   "id": "1e22b7f9",
   "metadata": {
    "ExecuteTime": {
     "end_time": "2023-04-07T11:48:59.185812Z",
     "start_time": "2023-04-07T11:48:59.172847Z"
    }
   },
   "outputs": [],
   "source": [
    "df_rating_gross = df2.groupby(['IMDB_Rating','Gross'])[ 'Gross'].sum().sort_values(ascending=False)"
   ]
  },
  {
   "cell_type": "code",
   "execution_count": 73,
   "id": "e8f48919",
   "metadata": {
    "ExecuteTime": {
     "end_time": "2023-04-07T11:48:59.216816Z",
     "start_time": "2023-04-07T11:48:59.188806Z"
    }
   },
   "outputs": [
    {
     "data": {
      "text/plain": [
       "IMDB_Rating  Gross     \n",
       "7.8          23457439.5    680265745.5\n",
       "8.1          23457439.5    656808306.0\n",
       "8.0          23457439.5    656808306.0\n",
       "7.7          23457439.5    492606229.5\n",
       "7.9          23457439.5    398776471.5\n",
       "                              ...     \n",
       "7.8          6460.0             6460.0\n",
       "7.6          6013.0             6013.0\n",
       "7.8          3600.0             3600.0\n",
       "8.0          3296.0             3296.0\n",
       "7.8          1305.0             1305.0\n",
       "Name: Gross, Length: 750, dtype: float64"
      ]
     },
     "execution_count": 73,
     "metadata": {},
     "output_type": "execute_result"
    }
   ],
   "source": [
    "df_rating_gross"
   ]
  },
  {
   "cell_type": "markdown",
   "id": "d4f5b0a7",
   "metadata": {},
   "source": [
    "# *Analysis and Insights*"
   ]
  },
  {
   "cell_type": "markdown",
   "id": "e0ef09d6",
   "metadata": {},
   "source": [
    "01) **Genres with maximum number of movies in this dataset**\n",
    "    \n",
    "      Genre                       No. of Movies\n",
    "    \n",
    "        Drama                        85\n",
    "        Comedy, Drama                35\n",
    "        Drama, Romance               35\n",
    "        Comedy, Drama, Romance       31\n",
    "        Action, Crime, Drama         29"
   ]
  },
  {
   "cell_type": "markdown",
   "id": "396a242b",
   "metadata": {},
   "source": [
    "02) **Combination of a Genre in  a movie that has very less Gross that means, movies with these combination of Genre are not liked by  people and get  FLOPPED in box office**\n",
    "\n",
    "\n",
    "          Genre                   Gross  \n",
    "    Comedy, Crime, Drama          1305.0\n",
    "    Action, Crime, Comedy         3296.0\n",
    "    Drama, Fantasy, Romance       3600.0 \n",
    "    Crime, Drama, Thriller        6013.0\n",
    "    Action, Crime, Drama          6460.0"
   ]
  },
  {
   "cell_type": "markdown",
   "id": "33fe167f",
   "metadata": {},
   "source": [
    "03) **Movies with these combination of Genre are most liked by  audience and has ruled the box office with highest Gross income.**\n",
    "\n",
    "      Combination of Genre          Gross\n",
    "    Action, Drama, History        188373161.0  \n",
    "    Animation, Adventure, Comedy  189422889.0    \n",
    "    Animation, Action, Adventure  190241310.0    \n",
    "    Animation, Adventure, Comedy  191796233.0    \n",
    "    Drama                         23457439.5 "
   ]
  },
  {
   "cell_type": "markdown",
   "id": "210b0c31",
   "metadata": {},
   "source": [
    "04) **Rating of a movie has not affected it's performance in box office**\n",
    "\n",
    "*These are top 5 examples where movie has less rating in comarision with other movies but still has maximum revenue in theatres*\n",
    "        \n",
    "        IMDB_Rating       Movies' Gross in  theater     \n",
    "            7.8                680265745.5\n",
    "            8.1                656808306.0\n",
    "            8.0                656808306.0\n",
    "            7.7                492606229.5\n",
    "            7.9                398776471.5\n",
    "\n",
    "*and these are examples of movies that have more or higher ratings but stil get  FLOPPED in box office*\n",
    "\n",
    "        IMDB_Rating       Movies' Gross in  theater \n",
    "        7.8                      6460.0\n",
    "        7.6                      6013.0\n",
    "        7.8                      3600.0\n",
    "        8.0                      3296.0\n",
    "        7.8                      1305.0"
   ]
  },
  {
   "cell_type": "markdown",
   "id": "b4fee53e",
   "metadata": {},
   "source": [
    "## Conclusion\n",
    "1. **Movies with Crime genre are poor in performance in comparision to Drama genre**\n",
    "2. **Rating of a movie is not affecting it's performance in theatre**\n",
    "2. **Audience likes Drama movies over Crime**"
   ]
  }
 ],
 "metadata": {
  "kernelspec": {
   "display_name": "Python 3 (ipykernel)",
   "language": "python",
   "name": "python3"
  },
  "language_info": {
   "codemirror_mode": {
    "name": "ipython",
    "version": 3
   },
   "file_extension": ".py",
   "mimetype": "text/x-python",
   "name": "python",
   "nbconvert_exporter": "python",
   "pygments_lexer": "ipython3",
   "version": "3.9.12"
  },
  "latex_envs": {
   "LaTeX_envs_menu_present": true,
   "autoclose": false,
   "autocomplete": true,
   "bibliofile": "biblio.bib",
   "cite_by": "apalike",
   "current_citInitial": 1,
   "eqLabelWithNumbers": true,
   "eqNumInitial": 1,
   "hotkeys": {
    "equation": "Ctrl-E",
    "itemize": "Ctrl-I"
   },
   "labels_anchors": false,
   "latex_user_defs": false,
   "report_style_numbering": false,
   "user_envs_cfg": false
  },
  "nbTranslate": {
   "displayLangs": [
    "*"
   ],
   "hotkey": "alt-t",
   "langInMainMenu": true,
   "sourceLang": "en",
   "targetLang": "fr",
   "useGoogleTranslate": true
  },
  "toc": {
   "base_numbering": 1,
   "nav_menu": {},
   "number_sections": true,
   "sideBar": true,
   "skip_h1_title": false,
   "title_cell": "Table of Contents",
   "title_sidebar": "Contents",
   "toc_cell": false,
   "toc_position": {},
   "toc_section_display": true,
   "toc_window_display": false
  },
  "varInspector": {
   "cols": {
    "lenName": 16,
    "lenType": 16,
    "lenVar": 40
   },
   "kernels_config": {
    "python": {
     "delete_cmd_postfix": "",
     "delete_cmd_prefix": "del ",
     "library": "var_list.py",
     "varRefreshCmd": "print(var_dic_list())"
    },
    "r": {
     "delete_cmd_postfix": ") ",
     "delete_cmd_prefix": "rm(",
     "library": "var_list.r",
     "varRefreshCmd": "cat(var_dic_list()) "
    }
   },
   "types_to_exclude": [
    "module",
    "function",
    "builtin_function_or_method",
    "instance",
    "_Feature"
   ],
   "window_display": false
  }
 },
 "nbformat": 4,
 "nbformat_minor": 5
}
